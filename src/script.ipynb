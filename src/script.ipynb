{
 "cells": [
  {
   "cell_type": "code",
   "execution_count": 1,
   "id": "fc46eaa8-fa28-45c8-8308-6c9445b3ec87",
   "metadata": {},
   "outputs": [
    {
     "name": "stderr",
     "output_type": "stream",
     "text": [
      "2023-06-14 16:08:22.006913: I tensorflow/core/platform/cpu_feature_guard.cc:193] This TensorFlow binary is optimized with oneAPI Deep Neural Network Library (oneDNN) to use the following CPU instructions in performance-critical operations:  AVX2 FMA\n",
      "To enable them in other operations, rebuild TensorFlow with the appropriate compiler flags.\n",
      "2023-06-14 16:08:22.184556: W tensorflow/compiler/xla/stream_executor/platform/default/dso_loader.cc:64] Could not load dynamic library 'libcudart.so.11.0'; dlerror: libcudart.so.11.0: cannot open shared object file: No such file or directory; LD_LIBRARY_PATH: /usr/local/nvidia/lib:/usr/local/nvidia/lib64\n",
      "2023-06-14 16:08:22.184608: I tensorflow/compiler/xla/stream_executor/cuda/cudart_stub.cc:29] Ignore above cudart dlerror if you do not have a GPU set up on your machine.\n",
      "2023-06-14 16:08:23.840321: W tensorflow/compiler/xla/stream_executor/platform/default/dso_loader.cc:64] Could not load dynamic library 'libnvinfer.so.7'; dlerror: libnvinfer.so.7: cannot open shared object file: No such file or directory; LD_LIBRARY_PATH: /usr/local/nvidia/lib:/usr/local/nvidia/lib64\n",
      "2023-06-14 16:08:23.840460: W tensorflow/compiler/xla/stream_executor/platform/default/dso_loader.cc:64] Could not load dynamic library 'libnvinfer_plugin.so.7'; dlerror: libnvinfer_plugin.so.7: cannot open shared object file: No such file or directory; LD_LIBRARY_PATH: /usr/local/nvidia/lib:/usr/local/nvidia/lib64\n",
      "2023-06-14 16:08:23.840476: W tensorflow/compiler/tf2tensorrt/utils/py_utils.cc:38] TF-TRT Warning: Cannot dlopen some TensorRT libraries. If you would like to use Nvidia GPU with TensorRT, please make sure the missing libraries mentioned above are installed properly.\n"
     ]
    }
   ],
   "source": [
    "import bertCode\n",
    "import json"
   ]
  },
  {
   "cell_type": "code",
   "execution_count": 2,
   "id": "b73f2858-263c-4c94-b2a0-25a3bf2c910e",
   "metadata": {},
   "outputs": [],
   "source": [
    "with open('config.json', 'r') as config:\n",
    "    params = json.load(config)"
   ]
  },
  {
   "cell_type": "code",
   "execution_count": 3,
   "id": "0d311405-614c-45c0-970b-5bff13e4117b",
   "metadata": {},
   "outputs": [
    {
     "name": "stderr",
     "output_type": "stream",
     "text": [
      "2023-06-14 16:08:36.743011: W tensorflow/compiler/xla/stream_executor/platform/default/dso_loader.cc:64] Could not load dynamic library 'libcudart.so.11.0'; dlerror: libcudart.so.11.0: cannot open shared object file: No such file or directory; LD_LIBRARY_PATH: /usr/local/nvidia/lib:/usr/local/nvidia/lib64\n",
      "2023-06-14 16:08:36.743145: W tensorflow/compiler/xla/stream_executor/platform/default/dso_loader.cc:64] Could not load dynamic library 'libcublas.so.11'; dlerror: libcublas.so.11: cannot open shared object file: No such file or directory; LD_LIBRARY_PATH: /usr/local/nvidia/lib:/usr/local/nvidia/lib64\n",
      "2023-06-14 16:08:36.743246: W tensorflow/compiler/xla/stream_executor/platform/default/dso_loader.cc:64] Could not load dynamic library 'libcublasLt.so.11'; dlerror: libcublasLt.so.11: cannot open shared object file: No such file or directory; LD_LIBRARY_PATH: /usr/local/nvidia/lib:/usr/local/nvidia/lib64\n",
      "2023-06-14 16:08:36.743346: W tensorflow/compiler/xla/stream_executor/platform/default/dso_loader.cc:64] Could not load dynamic library 'libcufft.so.10'; dlerror: libcufft.so.10: cannot open shared object file: No such file or directory; LD_LIBRARY_PATH: /usr/local/nvidia/lib:/usr/local/nvidia/lib64\n",
      "2023-06-14 16:08:36.743459: W tensorflow/compiler/xla/stream_executor/platform/default/dso_loader.cc:64] Could not load dynamic library 'libcurand.so.10'; dlerror: libcurand.so.10: cannot open shared object file: No such file or directory; LD_LIBRARY_PATH: /usr/local/nvidia/lib:/usr/local/nvidia/lib64\n",
      "2023-06-14 16:08:36.743558: W tensorflow/compiler/xla/stream_executor/platform/default/dso_loader.cc:64] Could not load dynamic library 'libcusolver.so.11'; dlerror: libcusolver.so.11: cannot open shared object file: No such file or directory; LD_LIBRARY_PATH: /usr/local/nvidia/lib:/usr/local/nvidia/lib64\n",
      "2023-06-14 16:08:36.743659: W tensorflow/compiler/xla/stream_executor/platform/default/dso_loader.cc:64] Could not load dynamic library 'libcusparse.so.11'; dlerror: libcusparse.so.11: cannot open shared object file: No such file or directory; LD_LIBRARY_PATH: /usr/local/nvidia/lib:/usr/local/nvidia/lib64\n",
      "2023-06-14 16:08:36.743759: W tensorflow/compiler/xla/stream_executor/platform/default/dso_loader.cc:64] Could not load dynamic library 'libcudnn.so.8'; dlerror: libcudnn.so.8: cannot open shared object file: No such file or directory; LD_LIBRARY_PATH: /usr/local/nvidia/lib:/usr/local/nvidia/lib64\n",
      "2023-06-14 16:08:36.743784: W tensorflow/core/common_runtime/gpu/gpu_device.cc:1934] Cannot dlopen some GPU libraries. Please make sure the missing libraries mentioned above are installed properly if you would like to use GPU. Follow the guide at https://www.tensorflow.org/install/gpu for how to download and setup the required libraries for your platform.\n",
      "Skipping registering GPU devices...\n",
      "2023-06-14 16:08:36.744111: I tensorflow/core/platform/cpu_feature_guard.cc:193] This TensorFlow binary is optimized with oneAPI Deep Neural Network Library (oneDNN) to use the following CPU instructions in performance-critical operations:  AVX2 FMA\n",
      "To enable them in other operations, rebuild TensorFlow with the appropriate compiler flags.\n"
     ]
    },
    {
     "name": "stdout",
     "output_type": "stream",
     "text": [
      "1/1 [==============================] - 1s 685ms/step\n"
     ]
    },
    {
     "data": {
      "text/plain": [
       "(array(['MultiFactor Authentication'], dtype='<U26'),\n",
       " array([0.9658685], dtype=float32))"
      ]
     },
     "execution_count": 3,
     "metadata": {},
     "output_type": "execute_result"
    }
   ],
   "source": [
    "# Load your list of descriptions as string or change your description here\n",
    "descriptions = [\n",
    "    \"\"\"received from: efgrossm@eng.ucsd.edu Hi UCSD service desk,I am trying to access MyStudentChart, \n",
    "    but my phone broke yesterday. I cannot use DuoMobile to confirm login from my computer. \n",
    "    Can I get a bypass code while I wait for my new phone to come? -Esther\n",
    "    \"\"\"\n",
    "]\n",
    "\n",
    "bertCode.run_process(descriptions = descriptions, param_dict=params)"
   ]
  },
  {
   "cell_type": "code",
   "execution_count": 4,
   "id": "1ae18501-da9b-4191-b78d-b6d2b7427013",
   "metadata": {},
   "outputs": [],
   "source": [
    "dummy_data = [\n",
    "    \"\"\"received from: efgrossm@eng.ucsd.edu Hi UCSD service desk,I am trying to access MyStudentChart, \n",
    "    but my phone broke yesterday. I cannot use DuoMobile to confirm login from my computer. \n",
    "    Can I get a bypass code while I wait for my new phone to come? -Esther\n",
    "    \"\"\",\n",
    "    \"\"\"received from: rsotelo@ucsd.edu\n",
    "\n",
    "    Hi Service desk,\n",
    "\n",
    "    Can you please help me register my era commons username RYSOTELO and USCD affiliation to DUO.\n",
    "\n",
    "    Thank you,\n",
    "\n",
    "    Raquel\n",
    "    \"\"\",\n",
    "    \"My account is compromised, I need to change my password\",\n",
    "    \"Wifi at Sixth college is not working. All of my friends are reporting a problem\",\n",
    "    \"My VPN is not working. It is stuck on trying to connect when I type in my password\",\n",
    "    \"I am not receiving any emails in my Outlook exchange. The last email I got was 2 months ago. HELP!!!\",\n",
    "    \"I just registered for Math 189 yesterday and it is not showing up as a course on my Canvas page. Please help\",\n",
    "    \"My docking station is broken, the monitors connected to it does not work\",\n",
    "    \"My health email is not receiving any emails, what is going on?\",\n",
    "    \"I need Adobe Acrobat for work, how can I get that on my account?\"\n",
    "]"
   ]
  },
  {
   "cell_type": "code",
   "execution_count": 5,
   "id": "c0917b68-f4d1-4a90-a59e-32bcc9caa5cd",
   "metadata": {},
   "outputs": [
    {
     "name": "stdout",
     "output_type": "stream",
     "text": [
      "1/1 [==============================] - 1s 701ms/step\n"
     ]
    },
    {
     "data": {
      "text/plain": [
       "(array(['MultiFactor Authentication', 'MultiFactor Authentication',\n",
       "        'Password reset', 'Wireless Residential Networking',\n",
       "        'Virtual Private Network (VPN)', 'Exchange Online', 'Canvas LMS',\n",
       "        'Hardware Endpoint Support', 'Health IT Services ',\n",
       "        'Software Endpoint Support'], dtype='<U31'),\n",
       " array([0.9658683 , 0.38882044, 0.80870456, 0.52833146, 0.83695424,\n",
       "        0.90501285, 0.9938696 , 0.91025704, 0.39728653, 0.5935595 ],\n",
       "       dtype=float32))"
      ]
     },
     "execution_count": 5,
     "metadata": {},
     "output_type": "execute_result"
    }
   ],
   "source": [
    "bertCode.run_process(descriptions=dummy_data, param_dict=params)"
   ]
  },
  {
   "cell_type": "code",
   "execution_count": null,
   "id": "15191fb7-e8dc-4279-acb1-012936bd1d10",
   "metadata": {},
   "outputs": [],
   "source": []
  }
 ],
 "metadata": {
  "kernelspec": {
   "display_name": "Python 3 (ipykernel)",
   "language": "python",
   "name": "python3"
  },
  "language_info": {
   "codemirror_mode": {
    "name": "ipython",
    "version": 3
   },
   "file_extension": ".py",
   "mimetype": "text/x-python",
   "name": "python",
   "nbconvert_exporter": "python",
   "pygments_lexer": "ipython3",
   "version": "3.9.5"
  }
 },
 "nbformat": 4,
 "nbformat_minor": 5
}

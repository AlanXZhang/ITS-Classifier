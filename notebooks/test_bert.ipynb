{
 "cells": [
  {
   "cell_type": "code",
   "execution_count": 2,
   "id": "62831478-cb40-48f5-8793-88ca632c987c",
   "metadata": {},
   "outputs": [
    {
     "name": "stderr",
     "output_type": "stream",
     "text": [
      "2023-03-20 21:41:48.068898: I tensorflow/core/platform/cpu_feature_guard.cc:193] This TensorFlow binary is optimized with oneAPI Deep Neural Network Library (oneDNN) to use the following CPU instructions in performance-critical operations:  AVX2 FMA\n",
      "To enable them in other operations, rebuild TensorFlow with the appropriate compiler flags.\n",
      "2023-03-20 21:41:48.474650: W tensorflow/compiler/xla/stream_executor/platform/default/dso_loader.cc:64] Could not load dynamic library 'libcudart.so.11.0'; dlerror: libcudart.so.11.0: cannot open shared object file: No such file or directory; LD_LIBRARY_PATH: /usr/local/nvidia/lib:/usr/local/nvidia/lib64\n",
      "2023-03-20 21:41:48.474705: I tensorflow/compiler/xla/stream_executor/cuda/cudart_stub.cc:29] Ignore above cudart dlerror if you do not have a GPU set up on your machine.\n",
      "2023-03-20 21:41:51.183535: W tensorflow/compiler/xla/stream_executor/platform/default/dso_loader.cc:64] Could not load dynamic library 'libnvinfer.so.7'; dlerror: libnvinfer.so.7: cannot open shared object file: No such file or directory; LD_LIBRARY_PATH: /usr/local/nvidia/lib:/usr/local/nvidia/lib64\n",
      "2023-03-20 21:41:51.183690: W tensorflow/compiler/xla/stream_executor/platform/default/dso_loader.cc:64] Could not load dynamic library 'libnvinfer_plugin.so.7'; dlerror: libnvinfer_plugin.so.7: cannot open shared object file: No such file or directory; LD_LIBRARY_PATH: /usr/local/nvidia/lib:/usr/local/nvidia/lib64\n",
      "2023-03-20 21:41:51.183706: W tensorflow/compiler/tf2tensorrt/utils/py_utils.cc:38] TF-TRT Warning: Cannot dlopen some TensorRT libraries. If you would like to use Nvidia GPU with TensorRT, please make sure the missing libraries mentioned above are installed properly.\n"
     ]
    }
   ],
   "source": [
    "import pandas as pd\n",
    "import numpy as np\n",
    "\n",
    "import tensorflow as tf\n",
    "import tensorflow_hub as hub\n",
    "import tensorflow_text as text\n",
    "from official.nlp import optimization\n",
    "\n",
    "from sklearn.model_selection import train_test_split\n",
    "from sklearn.preprocessing import LabelEncoder\n",
    "\n",
    "tf.get_logger().setLevel('ERROR')"
   ]
  },
  {
   "cell_type": "code",
   "execution_count": 3,
   "id": "c0db9c1f-933a-4379-8408-bf36ca5c0113",
   "metadata": {},
   "outputs": [],
   "source": [
    "df = pd.read_csv(\"../data/processed_its_top_10.csv\", nrows = 5000)\n",
    "df[\"description\"] = df[\"description\"].fillna(\"\")\n",
    "X = df[\"description\"].fillna(\"None\").to_numpy()\n",
    "le = LabelEncoder()\n",
    "y = le.fit_transform(df[\"service_offering\"])\n",
    "num_classes = len(le.classes_)\n",
    "# Use the following line if you plan to use CategoricalCrossentropy as the loss function\n",
    "# y = tf.keras.utils.to_categorical(y, num_classes=num_classes)\n",
    "X_train, X_val, y_train, y_val = train_test_split(X, y, test_size=0.2, random_state=42, stratify=y)"
   ]
  },
  {
   "cell_type": "code",
   "execution_count": 19,
   "id": "5925f29d-49cb-4af8-84e0-9b8223dc34ad",
   "metadata": {},
   "outputs": [
    {
     "data": {
      "text/plain": [
       "service_offering\n",
       "Active Directory - ITS                   0.0890\n",
       "Canvas LMS                               0.0174\n",
       "Enterprise Software Licensing Support    0.0320\n",
       "Hardware Endpoint Support                0.0220\n",
       "MultiFactor Authentication               0.1138\n",
       "Non ITS Support                          0.0614\n",
       "Office 365                               0.0296\n",
       "Online Directory                         0.0316\n",
       "Other                                    0.4848\n",
       "Single Sign-on                           0.0220\n",
       "Spam / Duplicate Case                    0.0964\n",
       "Name: description, dtype: float64"
      ]
     },
     "execution_count": 19,
     "metadata": {},
     "output_type": "execute_result"
    }
   ],
   "source": [
    "df.groupby(df[\"service_offering\"])[\"description\"].count() / df.shape[0]"
   ]
  },
  {
   "cell_type": "code",
   "execution_count": 23,
   "id": "e8fea8cf-f2b9-49ca-b4a1-045a2908c873",
   "metadata": {},
   "outputs": [
    {
     "name": "stdout",
     "output_type": "stream",
     "text": [
      "Model: \"model\"\n",
      "__________________________________________________________________________________________________\n",
      " Layer (type)                   Output Shape         Param #     Connected to                     \n",
      "==================================================================================================\n",
      " text (InputLayer)              [(None,)]            0           []                               \n",
      "                                                                                                  \n",
      " preprocessing (KerasLayer)     {'input_word_ids':   0           ['text[0][0]']                   \n",
      "                                (None, 128),                                                      \n",
      "                                 'input_mask': (Non                                               \n",
      "                                e, 128),                                                          \n",
      "                                 'input_type_ids':                                                \n",
      "                                (None, 128)}                                                      \n",
      "                                                                                                  \n",
      " BERT_encoder (KerasLayer)      {'default': (None,   11170561    ['preprocessing[0][0]',          \n",
      "                                256),                             'preprocessing[0][1]',          \n",
      "                                 'pooled_output': (               'preprocessing[0][2]']          \n",
      "                                None, 256),                                                       \n",
      "                                 'encoder_outputs':                                               \n",
      "                                 [(None, 128, 256),                                               \n",
      "                                 (None, 128, 256),                                                \n",
      "                                 (None, 128, 256),                                                \n",
      "                                 (None, 128, 256)],                                               \n",
      "                                 'sequence_output':                                               \n",
      "                                 (None, 128, 256)}                                                \n",
      "                                                                                                  \n",
      " dropout (Dropout)              (None, 256)          0           ['BERT_encoder[0][5]']           \n",
      "                                                                                                  \n",
      " classifier (Dense)             (None, 11)           2827        ['dropout[0][0]']                \n",
      "                                                                                                  \n",
      "==================================================================================================\n",
      "Total params: 11,173,388\n",
      "Trainable params: 11,173,387\n",
      "Non-trainable params: 1\n",
      "__________________________________________________________________________________________________\n"
     ]
    }
   ],
   "source": [
    "new_model = tf.keras.models.load_model('saved_model/my_model', compile=False)\n",
    "new_model.summary()"
   ]
  },
  {
   "cell_type": "code",
   "execution_count": 26,
   "id": "862a69f5-b469-4a8b-9d90-9f76d4a927ff",
   "metadata": {},
   "outputs": [
    {
     "name": "stdout",
     "output_type": "stream",
     "text": [
      "1/1 [==============================] - 1s 657ms/step\n"
     ]
    },
    {
     "data": {
      "text/plain": [
       "array(['MultiFactor Authentication'], dtype=object)"
      ]
     },
     "execution_count": 26,
     "metadata": {},
     "output_type": "execute_result"
    }
   ],
   "source": [
    "test = [\"My Duo Mobile app is not working. It says that the account is disabled. Please contact the Service Desk.\"]\n",
    "pred = np.argmax(new_model.predict(x = test))\n",
    "le.inverse_transform([pred])"
   ]
  },
  {
   "cell_type": "code",
   "execution_count": 27,
   "id": "21dff1f8-dbfc-4642-8549-54ec592959b2",
   "metadata": {},
   "outputs": [
    {
     "name": "stdout",
     "output_type": "stream",
     "text": [
      "1/1 [==============================] - 0s 82ms/step\n"
     ]
    },
    {
     "data": {
      "text/plain": [
       "array(['Active Directory - ITS'], dtype=object)"
      ]
     },
     "execution_count": 27,
     "metadata": {},
     "output_type": "execute_result"
    }
   ],
   "source": [
    "test = [\"My account is compromised, I need to change my password\"]\n",
    "pred = np.argmax(new_model.predict(x = test))\n",
    "le.inverse_transform([pred])"
   ]
  },
  {
   "cell_type": "code",
   "execution_count": 28,
   "id": "068ca995-8846-4ca4-9834-8be847f2523c",
   "metadata": {},
   "outputs": [
    {
     "name": "stdout",
     "output_type": "stream",
     "text": [
      "1/1 [==============================] - 0s 82ms/step\n"
     ]
    },
    {
     "data": {
      "text/plain": [
       "array(['Other'], dtype=object)"
      ]
     },
     "execution_count": 28,
     "metadata": {},
     "output_type": "execute_result"
    }
   ],
   "source": [
    "test = [\"Wifi at Sixth college is not working. All of my friends are reporting a problem\"]\n",
    "pred = np.argmax(new_model.predict(x = test))\n",
    "le.inverse_transform([pred])"
   ]
  },
  {
   "cell_type": "code",
   "execution_count": 29,
   "id": "884b30ba-5b35-4142-8494-b16c64f5786d",
   "metadata": {},
   "outputs": [
    {
     "name": "stdout",
     "output_type": "stream",
     "text": [
      "1/1 [==============================] - 0s 74ms/step\n"
     ]
    },
    {
     "data": {
      "text/plain": [
       "array(['Other'], dtype=object)"
      ]
     },
     "execution_count": 29,
     "metadata": {},
     "output_type": "execute_result"
    }
   ],
   "source": [
    "test = [\"My VPN is not working. It is stuck on trying to connect when I type in my password\"]\n",
    "pred = np.argmax(new_model.predict(x = test))\n",
    "le.inverse_transform([pred])"
   ]
  },
  {
   "cell_type": "code",
   "execution_count": 30,
   "id": "d4a42ba5-f1fb-4bc6-999f-9efbb22f370b",
   "metadata": {},
   "outputs": [
    {
     "name": "stdout",
     "output_type": "stream",
     "text": [
      "1/1 [==============================] - 0s 78ms/step\n"
     ]
    },
    {
     "data": {
      "text/plain": [
       "array(['Other'], dtype=object)"
      ]
     },
     "execution_count": 30,
     "metadata": {},
     "output_type": "execute_result"
    }
   ],
   "source": [
    "test = [\"I am not receiving any emails in my Outlook exchange. The last email I got was 2 months ago. HELP!!!\"]\n",
    "pred = np.argmax(new_model.predict(x = test))\n",
    "le.inverse_transform([pred])"
   ]
  },
  {
   "cell_type": "code",
   "execution_count": null,
   "id": "4fddbccb-0feb-4ebc-97fe-0825936c9389",
   "metadata": {},
   "outputs": [],
   "source": []
  },
  {
   "cell_type": "code",
   "execution_count": 31,
   "id": "f3efa5bd-cac7-46c1-b3e3-b1e98f9ed9ab",
   "metadata": {},
   "outputs": [
    {
     "name": "stdout",
     "output_type": "stream",
     "text": [
      "1/1 [==============================] - 0s 77ms/step\n"
     ]
    },
    {
     "data": {
      "text/plain": [
       "array(['Active Directory - ITS'], dtype=object)"
      ]
     },
     "execution_count": 31,
     "metadata": {},
     "output_type": "execute_result"
    }
   ],
   "source": [
    "test = [\"I need to register my Microsoft Exchange account. I can't receive any emails as of right now.\"]\n",
    "pred = np.argmax(new_model.predict(x = test))\n",
    "le.inverse_transform([pred])"
   ]
  },
  {
   "cell_type": "code",
   "execution_count": null,
   "id": "18597dcd-74b0-4968-9799-db9ce7f113bd",
   "metadata": {},
   "outputs": [],
   "source": []
  },
  {
   "cell_type": "code",
   "execution_count": 32,
   "id": "91dd969f-9ada-4097-9741-b12f13d17ba1",
   "metadata": {},
   "outputs": [
    {
     "name": "stdout",
     "output_type": "stream",
     "text": [
      "1/1 [==============================] - 0s 77ms/step\n"
     ]
    },
    {
     "data": {
      "text/plain": [
       "array(['Canvas LMS'], dtype=object)"
      ]
     },
     "execution_count": 32,
     "metadata": {},
     "output_type": "execute_result"
    }
   ],
   "source": [
    "test = [\"I just registered for Math 189 yesterday and it is not showing up as a course on my Canvas page. Please help\"]\n",
    "pred = np.argmax(new_model.predict(x = test))\n",
    "le.inverse_transform([pred])"
   ]
  },
  {
   "cell_type": "code",
   "execution_count": 34,
   "id": "9c8120c3-e83e-4171-b305-defcf10e1153",
   "metadata": {},
   "outputs": [
    {
     "name": "stdout",
     "output_type": "stream",
     "text": [
      "1/1 [==============================] - 0s 79ms/step\n"
     ]
    },
    {
     "data": {
      "text/plain": [
       "array(['Other'], dtype=object)"
      ]
     },
     "execution_count": 34,
     "metadata": {},
     "output_type": "execute_result"
    }
   ],
   "source": [
    "test = [\"My docking station is broken, the monitors connected to it does not work\"]\n",
    "pred = np.argmax(new_model.predict(x = test))\n",
    "le.inverse_transform([pred])"
   ]
  },
  {
   "cell_type": "code",
   "execution_count": 35,
   "id": "f197a756-bb51-4fa7-9424-0b9748e972ce",
   "metadata": {},
   "outputs": [
    {
     "name": "stdout",
     "output_type": "stream",
     "text": [
      "1/1 [==============================] - 0s 95ms/step\n"
     ]
    },
    {
     "data": {
      "text/plain": [
       "array(['Hardware Endpoint Support'], dtype=object)"
      ]
     },
     "execution_count": 35,
     "metadata": {},
     "output_type": "execute_result"
    }
   ],
   "source": [
    "test = [\"My laptop is not turning on and I have work today. Please help ASAP\"]\n",
    "pred = np.argmax(new_model.predict(x = test))\n",
    "le.inverse_transform([pred])"
   ]
  },
  {
   "cell_type": "code",
   "execution_count": 36,
   "id": "49c23fc7-ca39-4bbc-9f87-24d732e8e4b2",
   "metadata": {},
   "outputs": [
    {
     "name": "stdout",
     "output_type": "stream",
     "text": [
      "1/1 [==============================] - 0s 73ms/step\n"
     ]
    },
    {
     "data": {
      "text/plain": [
       "array(['Other'], dtype=object)"
      ]
     },
     "execution_count": 36,
     "metadata": {},
     "output_type": "execute_result"
    }
   ],
   "source": [
    "test = [\"My health email is not receiving any emails, what is going on?\"]\n",
    "pred = np.argmax(new_model.predict(x = test))\n",
    "le.inverse_transform([pred])"
   ]
  },
  {
   "cell_type": "code",
   "execution_count": 37,
   "id": "a7a8bd6a-cf64-44b0-9757-e2ea7523859b",
   "metadata": {},
   "outputs": [
    {
     "name": "stdout",
     "output_type": "stream",
     "text": [
      "1/1 [==============================] - 0s 81ms/step\n"
     ]
    },
    {
     "data": {
      "text/plain": [
       "array(['Enterprise Software Licensing Support'], dtype=object)"
      ]
     },
     "execution_count": 37,
     "metadata": {},
     "output_type": "execute_result"
    }
   ],
   "source": [
    "test = [\"I need Adobe Acrobat for work, how can I get that on my account?\"]\n",
    "pred = np.argmax(new_model.predict(x = test))\n",
    "le.inverse_transform([pred])"
   ]
  },
  {
   "cell_type": "code",
   "execution_count": null,
   "id": "116949a3-b8ff-4405-acf0-854e3d0d86b0",
   "metadata": {},
   "outputs": [],
   "source": []
  }
 ],
 "metadata": {
  "kernelspec": {
   "display_name": "Python 3 (ipykernel)",
   "language": "python",
   "name": "python3"
  },
  "language_info": {
   "codemirror_mode": {
    "name": "ipython",
    "version": 3
   },
   "file_extension": ".py",
   "mimetype": "text/x-python",
   "name": "python",
   "nbconvert_exporter": "python",
   "pygments_lexer": "ipython3",
   "version": "3.9.5"
  }
 },
 "nbformat": 4,
 "nbformat_minor": 5
}

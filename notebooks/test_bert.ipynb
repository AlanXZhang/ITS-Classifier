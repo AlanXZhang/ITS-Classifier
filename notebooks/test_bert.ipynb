{
 "cells": [
  {
   "cell_type": "code",
   "execution_count": 1,
   "id": "62831478-cb40-48f5-8793-88ca632c987c",
   "metadata": {},
   "outputs": [
    {
     "name": "stderr",
     "output_type": "stream",
     "text": [
      "2023-03-24 17:05:52.496356: I tensorflow/core/platform/cpu_feature_guard.cc:193] This TensorFlow binary is optimized with oneAPI Deep Neural Network Library (oneDNN) to use the following CPU instructions in performance-critical operations:  AVX2 AVX512F FMA\n",
      "To enable them in other operations, rebuild TensorFlow with the appropriate compiler flags.\n",
      "2023-03-24 17:05:52.992631: W tensorflow/compiler/xla/stream_executor/platform/default/dso_loader.cc:64] Could not load dynamic library 'libcudart.so.11.0'; dlerror: libcudart.so.11.0: cannot open shared object file: No such file or directory; LD_LIBRARY_PATH: /usr/local/nvidia/lib:/usr/local/nvidia/lib64\n",
      "2023-03-24 17:05:52.992718: I tensorflow/compiler/xla/stream_executor/cuda/cudart_stub.cc:29] Ignore above cudart dlerror if you do not have a GPU set up on your machine.\n",
      "2023-03-24 17:05:55.907720: W tensorflow/compiler/xla/stream_executor/platform/default/dso_loader.cc:64] Could not load dynamic library 'libnvinfer.so.7'; dlerror: libnvinfer.so.7: cannot open shared object file: No such file or directory; LD_LIBRARY_PATH: /usr/local/nvidia/lib:/usr/local/nvidia/lib64\n",
      "2023-03-24 17:05:55.908160: W tensorflow/compiler/xla/stream_executor/platform/default/dso_loader.cc:64] Could not load dynamic library 'libnvinfer_plugin.so.7'; dlerror: libnvinfer_plugin.so.7: cannot open shared object file: No such file or directory; LD_LIBRARY_PATH: /usr/local/nvidia/lib:/usr/local/nvidia/lib64\n",
      "2023-03-24 17:05:55.908194: W tensorflow/compiler/tf2tensorrt/utils/py_utils.cc:38] TF-TRT Warning: Cannot dlopen some TensorRT libraries. If you would like to use Nvidia GPU with TensorRT, please make sure the missing libraries mentioned above are installed properly.\n"
     ]
    }
   ],
   "source": [
    "import pandas as pd\n",
    "import numpy as np\n",
    "\n",
    "import tensorflow as tf\n",
    "import tensorflow_hub as hub\n",
    "import tensorflow_text as text\n",
    "from official.nlp import optimization\n",
    "\n",
    "from sklearn.model_selection import train_test_split\n",
    "from sklearn.preprocessing import LabelEncoder\n",
    "\n",
    "tf.get_logger().setLevel('ERROR')"
   ]
  },
  {
   "cell_type": "code",
   "execution_count": 2,
   "id": "c0db9c1f-933a-4379-8408-bf36ca5c0113",
   "metadata": {},
   "outputs": [],
   "source": [
    "df = pd.read_csv(\"../data/processed_its_top_10.csv\")[-6000:]\n",
    "df[\"description\"] = df[\"description\"].fillna(\"\")\n",
    "X = df[\"description\"].fillna(\"None\").to_numpy()\n",
    "le = LabelEncoder()\n",
    "y = le.fit_transform(df[\"service_offering\"])\n",
    "num_classes = len(le.classes_)\n",
    "# Use the following line if you plan to use CategoricalCrossentropy as the loss function\n",
    "# y = tf.keras.utils.to_categorical(y, num_classes=num_classes)\n",
    "X_train, X_val, y_train, y_val = train_test_split(X, y, test_size=0.2, random_state=42, stratify=y)"
   ]
  },
  {
   "cell_type": "code",
   "execution_count": 3,
   "id": "c6957478-99fa-4483-8605-686349f1e44c",
   "metadata": {},
   "outputs": [
    {
     "data": {
      "text/html": [
       "<div>\n",
       "<style scoped>\n",
       "    .dataframe tbody tr th:only-of-type {\n",
       "        vertical-align: middle;\n",
       "    }\n",
       "\n",
       "    .dataframe tbody tr th {\n",
       "        vertical-align: top;\n",
       "    }\n",
       "\n",
       "    .dataframe thead th {\n",
       "        text-align: right;\n",
       "    }\n",
       "</style>\n",
       "<table border=\"1\" class=\"dataframe\">\n",
       "  <thead>\n",
       "    <tr style=\"text-align: right;\">\n",
       "      <th></th>\n",
       "      <th>Unnamed: 0</th>\n",
       "      <th>description</th>\n",
       "      <th>service_offering</th>\n",
       "    </tr>\n",
       "  </thead>\n",
       "  <tbody>\n",
       "    <tr>\n",
       "      <th>363699</th>\n",
       "      <td>900771</td>\n",
       "      <td>Call answered by: Grace Garber</td>\n",
       "      <td>Other</td>\n",
       "    </tr>\n",
       "    <tr>\n",
       "      <th>363700</th>\n",
       "      <td>900772</td>\n",
       "      <td>Hi  Claudio,\\r\\nAs I'm waiting for Soo to  gen...</td>\n",
       "      <td>Other</td>\n",
       "    </tr>\n",
       "    <tr>\n",
       "      <th>363701</th>\n",
       "      <td>900777</td>\n",
       "      <td>received from: j7jang@ucsd.edu\\n\\nHello, my na...</td>\n",
       "      <td>MultiFactor Authentication</td>\n",
       "    </tr>\n",
       "    <tr>\n",
       "      <th>363702</th>\n",
       "      <td>900779</td>\n",
       "      <td>We received your CINFO request for AWS resourc...</td>\n",
       "      <td>Other</td>\n",
       "    </tr>\n",
       "    <tr>\n",
       "      <th>363703</th>\n",
       "      <td>900780</td>\n",
       "      <td>received from: stanleyyang22@gmail.com\\n\\nHell...</td>\n",
       "      <td>Other</td>\n",
       "    </tr>\n",
       "  </tbody>\n",
       "</table>\n",
       "</div>"
      ],
      "text/plain": [
       "        Unnamed: 0                                        description  \\\n",
       "363699      900771                     Call answered by: Grace Garber   \n",
       "363700      900772  Hi  Claudio,\\r\\nAs I'm waiting for Soo to  gen...   \n",
       "363701      900777  received from: j7jang@ucsd.edu\\n\\nHello, my na...   \n",
       "363702      900779  We received your CINFO request for AWS resourc...   \n",
       "363703      900780  received from: stanleyyang22@gmail.com\\n\\nHell...   \n",
       "\n",
       "                  service_offering  \n",
       "363699                       Other  \n",
       "363700                       Other  \n",
       "363701  MultiFactor Authentication  \n",
       "363702                       Other  \n",
       "363703                       Other  "
      ]
     },
     "execution_count": 3,
     "metadata": {},
     "output_type": "execute_result"
    }
   ],
   "source": [
    "df.head()"
   ]
  },
  {
   "cell_type": "code",
   "execution_count": 4,
   "id": "5925f29d-49cb-4af8-84e0-9b8223dc34ad",
   "metadata": {},
   "outputs": [
    {
     "data": {
      "text/plain": [
       "<AxesSubplot:ylabel='service_offering'>"
      ]
     },
     "execution_count": 4,
     "metadata": {},
     "output_type": "execute_result"
    },
    {
     "data": {
      "image/png": "[encoded data removed]",
      "text/plain": [
       "<Figure size 576x576 with 1 Axes>"
      ]
     },
     "metadata": {
      "needs_background": "light"
     },
     "output_type": "display_data"
    }
   ],
   "source": [
    "(df.groupby(df[\"service_offering\"])[\"description\"].count() / df.shape[0]).sort_values().plot(kind=\"barh\", figsize=(8,8))"
   ]
  },
  {
   "cell_type": "code",
   "execution_count": 5,
   "id": "e8fea8cf-f2b9-49ca-b4a1-045a2908c873",
   "metadata": {},
   "outputs": [
    {
     "name": "stderr",
     "output_type": "stream",
     "text": [
      "2023-03-24 17:06:17.156712: W tensorflow/compiler/xla/stream_executor/platform/default/dso_loader.cc:64] Could not load dynamic library 'libcudart.so.11.0'; dlerror: libcudart.so.11.0: cannot open shared object file: No such file or directory; LD_LIBRARY_PATH: /usr/local/nvidia/lib:/usr/local/nvidia/lib64\n",
      "2023-03-24 17:06:17.157286: W tensorflow/compiler/xla/stream_executor/platform/default/dso_loader.cc:64] Could not load dynamic library 'libcublas.so.11'; dlerror: libcublas.so.11: cannot open shared object file: No such file or directory; LD_LIBRARY_PATH: /usr/local/nvidia/lib:/usr/local/nvidia/lib64\n",
      "2023-03-24 17:06:17.157531: W tensorflow/compiler/xla/stream_executor/platform/default/dso_loader.cc:64] Could not load dynamic library 'libcublasLt.so.11'; dlerror: libcublasLt.so.11: cannot open shared object file: No such file or directory; LD_LIBRARY_PATH: /usr/local/nvidia/lib:/usr/local/nvidia/lib64\n",
      "2023-03-24 17:06:17.157737: W tensorflow/compiler/xla/stream_executor/platform/default/dso_loader.cc:64] Could not load dynamic library 'libcufft.so.10'; dlerror: libcufft.so.10: cannot open shared object file: No such file or directory; LD_LIBRARY_PATH: /usr/local/nvidia/lib:/usr/local/nvidia/lib64\n",
      "2023-03-24 17:06:17.157936: W tensorflow/compiler/xla/stream_executor/platform/default/dso_loader.cc:64] Could not load dynamic library 'libcurand.so.10'; dlerror: libcurand.so.10: cannot open shared object file: No such file or directory; LD_LIBRARY_PATH: /usr/local/nvidia/lib:/usr/local/nvidia/lib64\n",
      "2023-03-24 17:06:17.158129: W tensorflow/compiler/xla/stream_executor/platform/default/dso_loader.cc:64] Could not load dynamic library 'libcusolver.so.11'; dlerror: libcusolver.so.11: cannot open shared object file: No such file or directory; LD_LIBRARY_PATH: /usr/local/nvidia/lib:/usr/local/nvidia/lib64\n",
      "2023-03-24 17:06:17.158320: W tensorflow/compiler/xla/stream_executor/platform/default/dso_loader.cc:64] Could not load dynamic library 'libcusparse.so.11'; dlerror: libcusparse.so.11: cannot open shared object file: No such file or directory; LD_LIBRARY_PATH: /usr/local/nvidia/lib:/usr/local/nvidia/lib64\n",
      "2023-03-24 17:06:17.158529: W tensorflow/compiler/xla/stream_executor/platform/default/dso_loader.cc:64] Could not load dynamic library 'libcudnn.so.8'; dlerror: libcudnn.so.8: cannot open shared object file: No such file or directory; LD_LIBRARY_PATH: /usr/local/nvidia/lib:/usr/local/nvidia/lib64\n",
      "2023-03-24 17:06:17.158550: W tensorflow/core/common_runtime/gpu/gpu_device.cc:1934] Cannot dlopen some GPU libraries. Please make sure the missing libraries mentioned above are installed properly if you would like to use GPU. Follow the guide at https://www.tensorflow.org/install/gpu for how to download and setup the required libraries for your platform.\n",
      "Skipping registering GPU devices...\n",
      "2023-03-24 17:06:17.158964: I tensorflow/core/platform/cpu_feature_guard.cc:193] This TensorFlow binary is optimized with oneAPI Deep Neural Network Library (oneDNN) to use the following CPU instructions in performance-critical operations:  AVX2 AVX512F FMA\n",
      "To enable them in other operations, rebuild TensorFlow with the appropriate compiler flags.\n"
     ]
    },
    {
     "name": "stdout",
     "output_type": "stream",
     "text": [
      "Model: \"model\"\n",
      "__________________________________________________________________________________________________\n",
      " Layer (type)                   Output Shape         Param #     Connected to                     \n",
      "==================================================================================================\n",
      " text (InputLayer)              [(None,)]            0           []                               \n",
      "                                                                                                  \n",
      " preprocessing (KerasLayer)     {'input_type_ids':   0           ['text[0][0]']                   \n",
      "                                (None, 128),                                                      \n",
      "                                 'input_word_ids':                                                \n",
      "                                (None, 128),                                                      \n",
      "                                 'input_mask': (Non                                               \n",
      "                                e, 128)}                                                          \n",
      "                                                                                                  \n",
      " BERT_encoder (KerasLayer)      {'pooled_output': (  11170561    ['preprocessing[0][0]',          \n",
      "                                None, 256),                       'preprocessing[0][1]',          \n",
      "                                 'default': (None,                'preprocessing[0][2]']          \n",
      "                                256),                                                             \n",
      "                                 'sequence_output':                                               \n",
      "                                 (None, 128, 256),                                                \n",
      "                                 'encoder_outputs':                                               \n",
      "                                 [(None, 128, 256),                                               \n",
      "                                 (None, 128, 256),                                                \n",
      "                                 (None, 128, 256),                                                \n",
      "                                 (None, 128, 256)]}                                               \n",
      "                                                                                                  \n",
      " dropout (Dropout)              (None, 256)          0           ['BERT_encoder[0][5]']           \n",
      "                                                                                                  \n",
      " classifier (Dense)             (None, 11)           2827        ['dropout[0][0]']                \n",
      "                                                                                                  \n",
      "==================================================================================================\n",
      "Total params: 11,173,388\n",
      "Trainable params: 11,173,387\n",
      "Non-trainable params: 1\n",
      "__________________________________________________________________________________________________\n"
     ]
    }
   ],
   "source": [
    "new_model = tf.keras.models.load_model('saved_model/my_model', compile=False)\n",
    "new_model.summary()"
   ]
  },
  {
   "cell_type": "code",
   "execution_count": 12,
   "id": "a4b1fd6e-78f6-49e3-b551-12425a020434",
   "metadata": {},
   "outputs": [],
   "source": [
    "# Sparse Categorical Cross Entropy and F1 Score\n",
    "loss = tf.keras.losses.SparseCategoricalCrossentropy(from_logits=False)\n",
    "metrics = tf.keras.metrics.CategoricalAccuracy()"
   ]
  },
  {
   "cell_type": "code",
   "execution_count": 13,
   "id": "057c756c-8ebb-4e08-9846-23a01a3f7ae3",
   "metadata": {},
   "outputs": [],
   "source": [
    "epochs = 20\n",
    "steps_per_epoch = 1000\n",
    "num_train_steps = steps_per_epoch * epochs\n",
    "num_warmup_steps = int(0.1*num_train_steps)\n",
    "\n",
    "init_lr = 3e-5\n",
    "optimizer = optimization.create_optimizer(\n",
    "    init_lr=init_lr,\n",
    "    num_train_steps=num_train_steps,\n",
    "    num_warmup_steps=num_warmup_steps,\n",
    "    optimizer_type=\"adamw\"\n",
    ")"
   ]
  },
  {
   "cell_type": "code",
   "execution_count": 15,
   "id": "82b703cd-de7b-4186-8ff7-fc0e6a179c36",
   "metadata": {},
   "outputs": [],
   "source": [
    "new_model.compile(\n",
    "    optimizer=optimizer,\n",
    "    loss=loss,\n",
    "    metrics=[\"accuracy\"]\n",
    ")"
   ]
  },
  {
   "cell_type": "code",
   "execution_count": 6,
   "id": "fa095124-f50a-4065-b67b-a11a4d3ac6d5",
   "metadata": {},
   "outputs": [
    {
     "name": "stdout",
     "output_type": "stream",
     "text": [
      "150/150 [==============================] - 69s 458ms/step\n"
     ]
    }
   ],
   "source": [
    "predictions = new_model.predict(X_train)"
   ]
  },
  {
   "cell_type": "code",
   "execution_count": 7,
   "id": "40891620-4e6f-4a2f-aa46-217ebfa03a47",
   "metadata": {},
   "outputs": [],
   "source": [
    "final_pred = np.argmax(predictions, axis=1)"
   ]
  },
  {
   "cell_type": "code",
   "execution_count": 8,
   "id": "ab63d20e-1c96-497d-b57b-5756238b8658",
   "metadata": {},
   "outputs": [
    {
     "data": {
      "text/plain": [
       "0.08604166666666667"
      ]
     },
     "execution_count": 8,
     "metadata": {},
     "output_type": "execute_result"
    }
   ],
   "source": [
    "np.mean(final_pred==y_train)"
   ]
  },
  {
   "cell_type": "code",
   "execution_count": 116,
   "id": "862a69f5-b469-4a8b-9d90-9f76d4a927ff",
   "metadata": {},
   "outputs": [
    {
     "name": "stdout",
     "output_type": "stream",
     "text": [
      "1/1 [==============================] - 0s 76ms/step\n"
     ]
    },
    {
     "data": {
      "text/plain": [
       "array(['Non ITS Support'], dtype=object)"
      ]
     },
     "execution_count": 116,
     "metadata": {},
     "output_type": "execute_result"
    }
   ],
   "source": [
    "test = [\n",
    "    \"received from: efgrossm@eng.ucsd.edu Hi UCSD service desk,I am trying to access MyStudentChart, but my phone broke yesterday. I cannot use DuoMobile to confirm login from my computer. Can I get a bypass code while I wait for my new phone to come? -Esther\"]\n",
    "pred = np.argmax(new_model.predict(x = test))\n",
    "le.inverse_transform([pred])"
   ]
  },
  {
   "cell_type": "code",
   "execution_count": 9,
   "id": "130be615-1c49-4c23-ab23-17a033da041d",
   "metadata": {},
   "outputs": [
    {
     "name": "stdout",
     "output_type": "stream",
     "text": [
      "1/1 [==============================] - 0s 461ms/step\n"
     ]
    },
    {
     "data": {
      "text/plain": [
       "array(['Non ITS Support'], dtype=object)"
      ]
     },
     "execution_count": 9,
     "metadata": {},
     "output_type": "execute_result"
    }
   ],
   "source": [
    "test = [\n",
    "    \"received from: efgrossm@eng.ucsd.edu Hi UCSD service desk,I am trying to access MyStudentChart, but my phone broke yesterday. I cannot use DuoMobile to confirm login from my computer. Can I get a bypass code while I wait for my new phone to come? -Esther\"]\n",
    "pred = np.argmax(new_model.predict(x = test))\n",
    "le.inverse_transform([pred])"
   ]
  },
  {
   "cell_type": "code",
   "execution_count": 80,
   "id": "305e5e0e-a4a2-4688-ad09-9d29850cf8ab",
   "metadata": {},
   "outputs": [
    {
     "name": "stdout",
     "output_type": "stream",
     "text": [
      "1/1 [==============================] - 0s 84ms/step\n"
     ]
    },
    {
     "data": {
      "text/plain": [
       "array(['MultiFactor Authentication'], dtype=object)"
      ]
     },
     "execution_count": 80,
     "metadata": {},
     "output_type": "execute_result"
    }
   ],
   "source": [
    "test = [\n",
    "    \"\"\"received from: rsotelo@ucsd.edu\n",
    "\n",
    "Hi Service desk,\n",
    "\n",
    "Can you please help me register my era commons username RYSOTELO and USCD affiliation to DUO.\n",
    "\n",
    "Thank you,\n",
    "\n",
    "Raquel\n",
    "\"\"\"]\n",
    "pred = np.argmax(new_model.predict(x = test))\n",
    "le.inverse_transform([pred])"
   ]
  },
  {
   "cell_type": "code",
   "execution_count": 81,
   "id": "21dff1f8-dbfc-4642-8549-54ec592959b2",
   "metadata": {},
   "outputs": [
    {
     "name": "stdout",
     "output_type": "stream",
     "text": [
      "1/1 [==============================] - 0s 80ms/step\n"
     ]
    },
    {
     "data": {
      "text/plain": [
       "array(['Active Directory - ITS'], dtype=object)"
      ]
     },
     "execution_count": 81,
     "metadata": {},
     "output_type": "execute_result"
    }
   ],
   "source": [
    "test = [\"My account is compromised, I need to change my password\"]\n",
    "pred = np.argmax(new_model.predict(x = test))\n",
    "le.inverse_transform([pred])"
   ]
  },
  {
   "cell_type": "code",
   "execution_count": 82,
   "id": "e067ad8f-8e5d-43eb-98e7-58e0437543c3",
   "metadata": {},
   "outputs": [
    {
     "name": "stdout",
     "output_type": "stream",
     "text": [
      "1/1 [==============================] - 0s 77ms/step\n"
     ]
    },
    {
     "data": {
      "text/plain": [
       "array(['MultiFactor Authentication'], dtype=object)"
      ]
     },
     "execution_count": 82,
     "metadata": {},
     "output_type": "execute_result"
    }
   ],
   "source": [
    "test = [\"My Duo Mobile app is not working and I can't ask it to call me anymore.\"]\n",
    "pred = np.argmax(new_model.predict(x = test))\n",
    "le.inverse_transform([pred])"
   ]
  },
  {
   "cell_type": "code",
   "execution_count": 83,
   "id": "068ca995-8846-4ca4-9834-8be847f2523c",
   "metadata": {},
   "outputs": [
    {
     "name": "stdout",
     "output_type": "stream",
     "text": [
      "1/1 [==============================] - 0s 78ms/step\n"
     ]
    },
    {
     "data": {
      "text/plain": [
       "array(['Other'], dtype=object)"
      ]
     },
     "execution_count": 83,
     "metadata": {},
     "output_type": "execute_result"
    }
   ],
   "source": [
    "test = [\"Wifi at Sixth college is not working. All of my friends are reporting a problem\"]\n",
    "pred = np.argmax(new_model.predict(x = test))\n",
    "le.inverse_transform([pred])"
   ]
  },
  {
   "cell_type": "code",
   "execution_count": 84,
   "id": "884b30ba-5b35-4142-8494-b16c64f5786d",
   "metadata": {},
   "outputs": [
    {
     "name": "stdout",
     "output_type": "stream",
     "text": [
      "1/1 [==============================] - 0s 72ms/step\n"
     ]
    },
    {
     "data": {
      "text/plain": [
       "array(['Other'], dtype=object)"
      ]
     },
     "execution_count": 84,
     "metadata": {},
     "output_type": "execute_result"
    }
   ],
   "source": [
    "test = [\"My VPN is not working. It is stuck on trying to connect when I type in my password\"]\n",
    "pred = np.argmax(new_model.predict(x = test))\n",
    "le.inverse_transform([pred])"
   ]
  },
  {
   "cell_type": "code",
   "execution_count": 85,
   "id": "d4a42ba5-f1fb-4bc6-999f-9efbb22f370b",
   "metadata": {},
   "outputs": [
    {
     "name": "stdout",
     "output_type": "stream",
     "text": [
      "1/1 [==============================] - 0s 84ms/step\n"
     ]
    },
    {
     "data": {
      "text/plain": [
       "array(['Other'], dtype=object)"
      ]
     },
     "execution_count": 85,
     "metadata": {},
     "output_type": "execute_result"
    }
   ],
   "source": [
    "test = [\"I am not receiving any emails in my Outlook exchange. The last email I got was 2 months ago. HELP!!!\"]\n",
    "pred = np.argmax(new_model.predict(x = test))\n",
    "le.inverse_transform([pred])"
   ]
  },
  {
   "cell_type": "code",
   "execution_count": 86,
   "id": "f3efa5bd-cac7-46c1-b3e3-b1e98f9ed9ab",
   "metadata": {},
   "outputs": [
    {
     "name": "stdout",
     "output_type": "stream",
     "text": [
      "1/1 [==============================] - 0s 75ms/step\n"
     ]
    },
    {
     "data": {
      "text/plain": [
       "array(['Active Directory - ITS'], dtype=object)"
      ]
     },
     "execution_count": 86,
     "metadata": {},
     "output_type": "execute_result"
    }
   ],
   "source": [
    "test = [\"I need to register my Microsoft Exchange account. I can't receive any emails as of right now.\"]\n",
    "pred = np.argmax(new_model.predict(x = test))\n",
    "le.inverse_transform([pred])"
   ]
  },
  {
   "cell_type": "code",
   "execution_count": 87,
   "id": "91dd969f-9ada-4097-9741-b12f13d17ba1",
   "metadata": {},
   "outputs": [
    {
     "name": "stdout",
     "output_type": "stream",
     "text": [
      "1/1 [==============================] - 0s 75ms/step\n"
     ]
    },
    {
     "data": {
      "text/plain": [
       "array(['Canvas LMS'], dtype=object)"
      ]
     },
     "execution_count": 87,
     "metadata": {},
     "output_type": "execute_result"
    }
   ],
   "source": [
    "test = [\"I just registered for Math 189 yesterday and it is not showing up as a course on my Canvas page. Please help\"]\n",
    "pred = np.argmax(new_model.predict(x = test))\n",
    "le.inverse_transform([pred])"
   ]
  },
  {
   "cell_type": "code",
   "execution_count": 88,
   "id": "9c8120c3-e83e-4171-b305-defcf10e1153",
   "metadata": {},
   "outputs": [
    {
     "name": "stdout",
     "output_type": "stream",
     "text": [
      "1/1 [==============================] - 0s 90ms/step\n"
     ]
    },
    {
     "data": {
      "text/plain": [
       "array(['Other'], dtype=object)"
      ]
     },
     "execution_count": 88,
     "metadata": {},
     "output_type": "execute_result"
    }
   ],
   "source": [
    "test = [\"My docking station is broken, the monitors connected to it does not work\"]\n",
    "pred = np.argmax(new_model.predict(x = test))\n",
    "le.inverse_transform([pred])"
   ]
  },
  {
   "cell_type": "code",
   "execution_count": 89,
   "id": "f197a756-bb51-4fa7-9424-0b9748e972ce",
   "metadata": {},
   "outputs": [
    {
     "name": "stdout",
     "output_type": "stream",
     "text": [
      "1/1 [==============================] - 0s 77ms/step\n"
     ]
    },
    {
     "data": {
      "text/plain": [
       "array(['Hardware Endpoint Support'], dtype=object)"
      ]
     },
     "execution_count": 89,
     "metadata": {},
     "output_type": "execute_result"
    }
   ],
   "source": [
    "test = [\"My laptop is not turning on and I have work today. Please help ASAP\"]\n",
    "pred = np.argmax(new_model.predict(x = test))\n",
    "le.inverse_transform([pred])"
   ]
  },
  {
   "cell_type": "code",
   "execution_count": 90,
   "id": "49c23fc7-ca39-4bbc-9f87-24d732e8e4b2",
   "metadata": {},
   "outputs": [
    {
     "name": "stdout",
     "output_type": "stream",
     "text": [
      "1/1 [==============================] - 0s 74ms/step\n"
     ]
    },
    {
     "data": {
      "text/plain": [
       "array(['Other'], dtype=object)"
      ]
     },
     "execution_count": 90,
     "metadata": {},
     "output_type": "execute_result"
    }
   ],
   "source": [
    "test = [\"My health email is not receiving any emails, what is going on?\"]\n",
    "pred = np.argmax(new_model.predict(x = test))\n",
    "le.inverse_transform([pred])"
   ]
  },
  {
   "cell_type": "code",
   "execution_count": 91,
   "id": "a7a8bd6a-cf64-44b0-9757-e2ea7523859b",
   "metadata": {},
   "outputs": [
    {
     "name": "stdout",
     "output_type": "stream",
     "text": [
      "1/1 [==============================] - 0s 78ms/step\n"
     ]
    },
    {
     "data": {
      "text/plain": [
       "array(['Enterprise Software Licensing Support'], dtype=object)"
      ]
     },
     "execution_count": 91,
     "metadata": {},
     "output_type": "execute_result"
    }
   ],
   "source": [
    "test = [\"I need Adobe Acrobat for work, how can I get that on my account?\"]\n",
    "pred = np.argmax(new_model.predict(x = test))\n",
    "le.inverse_transform([pred])"
   ]
  },
  {
   "cell_type": "code",
   "execution_count": null,
   "id": "116949a3-b8ff-4405-acf0-854e3d0d86b0",
   "metadata": {},
   "outputs": [],
   "source": []
  }
 ],
 "metadata": {
  "kernelspec": {
   "display_name": "Python 3 (ipykernel)",
   "language": "python",
   "name": "python3"
  },
  "language_info": {
   "codemirror_mode": {
    "name": "ipython",
    "version": 3
   },
   "file_extension": ".py",
   "mimetype": "text/x-python",
   "name": "python",
   "nbconvert_exporter": "python",
   "pygments_lexer": "ipython3",
   "version": "3.9.5"
  }
 },
 "nbformat": 4,
 "nbformat_minor": 5
}

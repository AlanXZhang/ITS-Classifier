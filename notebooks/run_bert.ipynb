{
 "cells": [
  {
   "cell_type": "code",
   "execution_count": 2,
   "id": "9b9fcb1f-949f-43f7-ba60-f19189fb1dd4",
   "metadata": {},
   "outputs": [],
   "source": [
    "import pandas as pd\n",
    "import numpy as np\n",
    "import json\n",
    "import tensorflow as tf\n",
    "import tensorflow_text as text\n",
    "\n",
    "tf.get_logger().setLevel('ERROR')"
   ]
  },
  {
   "cell_type": "code",
   "execution_count": 5,
   "id": "0cc5946d-e2cd-413c-8acf-ffbefac99685",
   "metadata": {},
   "outputs": [],
   "source": [
    "def predict_many(mdl, desc, service_decoder):\n",
    "    \"\"\"\n",
    "    Predicts labels and probabilities for multiple descriptions using a trained model.\n",
    "\n",
    "    Parameters:\n",
    "        mdl (object): The trained model used for prediction.\n",
    "        desc (array-like): The input descriptions to be predicted.\n",
    "        service_decoder (dictionary): A dictionary of service offerings corresponding to the model's output.\n",
    "\n",
    "    Returns:\n",
    "        tuple: A tuple containing arrays of predicted labels and corresponding probabilities.\n",
    "    \"\"\"\n",
    "    probabilities = mdl.predict(x = desc)\n",
    "    max_prob_idx = np.argmax(probabilities, axis=1)\n",
    "    probs = np.max(probabilities, axis=1)\n",
    "    labels = np.array([service_decoder[str(idx)] for idx in max_prob_idx])\n",
    "    return labels, probs\n",
    "\n",
    "def predict_one(mdl, desc_str, service_decoder):\n",
    "    \"\"\"\n",
    "    Predicts a label and probability for a single description using a trained model.\n",
    "\n",
    "    Parameters:\n",
    "        mdl (object): The trained model used for prediction.\n",
    "        desc_str (str): The input description to be predicted.\n",
    "        service_decoder (dictionary): A dictionary of service offerings corresponding to the model's output.\n",
    "\n",
    "    Returns:\n",
    "        tuple: A tuple containing the predicted label and the corresponding probability.\n",
    "    \"\"\"\n",
    "    input_desc = [desc_str]\n",
    "    prob = mdl.predict(x = input_desc)\n",
    "    idx = np.argmax(prob, axis=1)[0]\n",
    "    max_prob = np.max(prob, axis=1)[0]\n",
    "    label = service_decoder[str(idx)]\n",
    "    return label, max_prob"
   ]
  },
  {
   "cell_type": "code",
   "execution_count": 6,
   "id": "2d512974-329d-4a29-aeaf-6c7db794faf3",
   "metadata": {},
   "outputs": [],
   "source": [
    "# Configure the filepath to where you placed these files\n",
    "model_path = 'saved_model/best_top_25_bert_small'\n",
    "service_encoder_path = \"../src/service_to_idx.json\"\n",
    "service_decoder_path = \"../src/idx_to_service.json\""
   ]
  },
  {
   "cell_type": "code",
   "execution_count": 7,
   "id": "2ee40c9a-505b-49f7-9de4-03ded1fd756d",
   "metadata": {},
   "outputs": [],
   "source": [
    "with open(service_encoder_path, \"r\") as enc:\n",
    "    service_enc = json.load(enc)\n",
    "\n",
    "with open(service_decoder_path, \"r\") as dec:\n",
    "    service_dec = json.load(dec)"
   ]
  },
  {
   "cell_type": "code",
   "execution_count": 8,
   "id": "ae94b92d-7da3-46bc-bbb9-bb56cecdb6ec",
   "metadata": {},
   "outputs": [
    {
     "name": "stderr",
     "output_type": "stream",
     "text": [
      "2023-06-14 16:02:05.720444: W tensorflow/compiler/xla/stream_executor/platform/default/dso_loader.cc:64] Could not load dynamic library 'libcudart.so.11.0'; dlerror: libcudart.so.11.0: cannot open shared object file: No such file or directory; LD_LIBRARY_PATH: /usr/local/nvidia/lib:/usr/local/nvidia/lib64\n",
      "2023-06-14 16:02:05.720588: W tensorflow/compiler/xla/stream_executor/platform/default/dso_loader.cc:64] Could not load dynamic library 'libcublas.so.11'; dlerror: libcublas.so.11: cannot open shared object file: No such file or directory; LD_LIBRARY_PATH: /usr/local/nvidia/lib:/usr/local/nvidia/lib64\n",
      "2023-06-14 16:02:05.720691: W tensorflow/compiler/xla/stream_executor/platform/default/dso_loader.cc:64] Could not load dynamic library 'libcublasLt.so.11'; dlerror: libcublasLt.so.11: cannot open shared object file: No such file or directory; LD_LIBRARY_PATH: /usr/local/nvidia/lib:/usr/local/nvidia/lib64\n",
      "2023-06-14 16:02:05.720789: W tensorflow/compiler/xla/stream_executor/platform/default/dso_loader.cc:64] Could not load dynamic library 'libcufft.so.10'; dlerror: libcufft.so.10: cannot open shared object file: No such file or directory; LD_LIBRARY_PATH: /usr/local/nvidia/lib:/usr/local/nvidia/lib64\n",
      "2023-06-14 16:02:05.720892: W tensorflow/compiler/xla/stream_executor/platform/default/dso_loader.cc:64] Could not load dynamic library 'libcurand.so.10'; dlerror: libcurand.so.10: cannot open shared object file: No such file or directory; LD_LIBRARY_PATH: /usr/local/nvidia/lib:/usr/local/nvidia/lib64\n",
      "2023-06-14 16:02:05.720988: W tensorflow/compiler/xla/stream_executor/platform/default/dso_loader.cc:64] Could not load dynamic library 'libcusolver.so.11'; dlerror: libcusolver.so.11: cannot open shared object file: No such file or directory; LD_LIBRARY_PATH: /usr/local/nvidia/lib:/usr/local/nvidia/lib64\n",
      "2023-06-14 16:02:05.721088: W tensorflow/compiler/xla/stream_executor/platform/default/dso_loader.cc:64] Could not load dynamic library 'libcusparse.so.11'; dlerror: libcusparse.so.11: cannot open shared object file: No such file or directory; LD_LIBRARY_PATH: /usr/local/nvidia/lib:/usr/local/nvidia/lib64\n",
      "2023-06-14 16:02:05.721190: W tensorflow/compiler/xla/stream_executor/platform/default/dso_loader.cc:64] Could not load dynamic library 'libcudnn.so.8'; dlerror: libcudnn.so.8: cannot open shared object file: No such file or directory; LD_LIBRARY_PATH: /usr/local/nvidia/lib:/usr/local/nvidia/lib64\n",
      "2023-06-14 16:02:05.721216: W tensorflow/core/common_runtime/gpu/gpu_device.cc:1934] Cannot dlopen some GPU libraries. Please make sure the missing libraries mentioned above are installed properly if you would like to use GPU. Follow the guide at https://www.tensorflow.org/install/gpu for how to download and setup the required libraries for your platform.\n",
      "Skipping registering GPU devices...\n",
      "2023-06-14 16:02:05.721570: I tensorflow/core/platform/cpu_feature_guard.cc:193] This TensorFlow binary is optimized with oneAPI Deep Neural Network Library (oneDNN) to use the following CPU instructions in performance-critical operations:  AVX2 FMA\n",
      "To enable them in other operations, rebuild TensorFlow with the appropriate compiler flags.\n"
     ]
    },
    {
     "name": "stdout",
     "output_type": "stream",
     "text": [
      "Model: \"model\"\n",
      "__________________________________________________________________________________________________\n",
      " Layer (type)                   Output Shape         Param #     Connected to                     \n",
      "==================================================================================================\n",
      " text (InputLayer)              [(None,)]            0           []                               \n",
      "                                                                                                  \n",
      " preprocessing (KerasLayer)     {'input_mask': (Non  0           ['text[0][0]']                   \n",
      "                                e, 128),                                                          \n",
      "                                 'input_word_ids':                                                \n",
      "                                (None, 128),                                                      \n",
      "                                 'input_type_ids':                                                \n",
      "                                (None, 128)}                                                      \n",
      "                                                                                                  \n",
      " BERT_encoder (KerasLayer)      {'pooled_output': (  11170561    ['preprocessing[0][0]',          \n",
      "                                None, 256),                       'preprocessing[0][1]',          \n",
      "                                 'encoder_outputs':               'preprocessing[0][2]']          \n",
      "                                 [(None, 128, 256),                                               \n",
      "                                 (None, 128, 256),                                                \n",
      "                                 (None, 128, 256),                                                \n",
      "                                 (None, 128, 256)],                                               \n",
      "                                 'sequence_output':                                               \n",
      "                                 (None, 128, 256),                                                \n",
      "                                 'default': (None,                                                \n",
      "                                256)}                                                             \n",
      "                                                                                                  \n",
      " dropout (Dropout)              (None, 256)          0           ['BERT_encoder[0][5]']           \n",
      "                                                                                                  \n",
      " classifier (Dense)             (None, 26)           6682        ['dropout[0][0]']                \n",
      "                                                                                                  \n",
      "==================================================================================================\n",
      "Total params: 11,177,243\n",
      "Trainable params: 11,177,242\n",
      "Non-trainable params: 1\n",
      "__________________________________________________________________________________________________\n"
     ]
    }
   ],
   "source": [
    "transformer = tf.keras.models.load_model(model_path, compile=False)\n",
    "transformer.summary()"
   ]
  },
  {
   "cell_type": "code",
   "execution_count": 9,
   "id": "3cd6079f-413c-434d-8148-4ecdf5fbfcb2",
   "metadata": {},
   "outputs": [
    {
     "name": "stdout",
     "output_type": "stream",
     "text": [
      "1/1 [==============================] - 1s 668ms/step\n",
      "(array(['MultiFactor Authentication', 'MultiFactor Authentication',\n",
      "       'Password reset', 'Wireless Residential Networking',\n",
      "       'Virtual Private Network (VPN)', 'Exchange Online', 'Canvas LMS',\n",
      "       'Hardware Endpoint Support', 'Health IT Services ',\n",
      "       'Software Endpoint Support'], dtype='<U31'), array([0.9658683 , 0.38882044, 0.80870456, 0.52833146, 0.83695424,\n",
      "       0.90501285, 0.9938696 , 0.91025704, 0.39728653, 0.5935595 ],\n",
      "      dtype=float32))\n"
     ]
    }
   ],
   "source": [
    "dummy_data = [\n",
    "    \"\"\"received from: efgrossm@eng.ucsd.edu Hi UCSD service desk,I am trying to access MyStudentChart, \n",
    "    but my phone broke yesterday. I cannot use DuoMobile to confirm login from my computer. \n",
    "    Can I get a bypass code while I wait for my new phone to come? -Esther\n",
    "    \"\"\",\n",
    "    \"\"\"received from: rsotelo@ucsd.edu\n",
    "\n",
    "    Hi Service desk,\n",
    "\n",
    "    Can you please help me register my era commons username RYSOTELO and USCD affiliation to DUO.\n",
    "\n",
    "    Thank you,\n",
    "\n",
    "    Raquel\n",
    "    \"\"\",\n",
    "    \"My account is compromised, I need to change my password\",\n",
    "    \"Wifi at Sixth college is not working. All of my friends are reporting a problem\",\n",
    "    \"My VPN is not working. It is stuck on trying to connect when I type in my password\",\n",
    "    \"I am not receiving any emails in my Outlook exchange. The last email I got was 2 months ago. HELP!!!\",\n",
    "    \"I just registered for Math 189 yesterday and it is not showing up as a course on my Canvas page. Please help\",\n",
    "    \"My docking station is broken, the monitors connected to it does not work\",\n",
    "    \"My health email is not receiving any emails, what is going on?\",\n",
    "    \"I need Adobe Acrobat for work, how can I get that on my account?\"\n",
    "]\n",
    "predictions = predict_many(transformer, dummy_data, service_dec)\n",
    "print(predictions)"
   ]
  },
  {
   "cell_type": "code",
   "execution_count": 10,
   "id": "1d9de28b-81c6-4406-98f9-56055758172a",
   "metadata": {},
   "outputs": [
    {
     "name": "stdout",
     "output_type": "stream",
     "text": [
      "1/1 [==============================] - 0s 79ms/step\n"
     ]
    },
    {
     "data": {
      "text/plain": [
       "('Password reset', 0.80870456)"
      ]
     },
     "execution_count": 10,
     "metadata": {},
     "output_type": "execute_result"
    }
   ],
   "source": [
    "predict_one(transformer, \"My account is compromised, I need to change my password\", service_dec)"
   ]
  },
  {
   "cell_type": "code",
   "execution_count": null,
   "id": "b6e7f92e-7457-4cc4-aa93-781a7828ed13",
   "metadata": {},
   "outputs": [],
   "source": []
  }
 ],
 "metadata": {
  "kernelspec": {
   "display_name": "Python 3 (ipykernel)",
   "language": "python",
   "name": "python3"
  },
  "language_info": {
   "codemirror_mode": {
    "name": "ipython",
    "version": 3
   },
   "file_extension": ".py",
   "mimetype": "text/x-python",
   "name": "python",
   "nbconvert_exporter": "python",
   "pygments_lexer": "ipython3",
   "version": "3.9.5"
  }
 },
 "nbformat": 4,
 "nbformat_minor": 5
}

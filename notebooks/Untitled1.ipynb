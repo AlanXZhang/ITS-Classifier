{
 "cells": [
  {
   "cell_type": "code",
   "execution_count": null,
   "id": "0cc5946d-e2cd-413c-8acf-ffbefac99685",
   "metadata": {},
   "outputs": [],
   "source": [
    "def predict(mdl, desc, le, correction):\n",
    "    probabilities = np.argmax(mdl.predict(x = desc), axis=1)\n",
    "    labels = le.inverse_transform(probabilities)\n",
    "    for idx, label in enumerate(labels):\n",
    "        if label in correction.keys():\n",
    "            labels[idx] = correction[label]\n",
    "    return labels"
   ]
  },
  {
   "cell_type": "code",
   "execution_count": null,
   "id": "ae94b92d-7da3-46bc-bbb9-bb56cecdb6ec",
   "metadata": {},
   "outputs": [],
   "source": [
    "new_model = tf.keras.models.load_model('saved_model/best_top_25_bert_small', compile=False)\n",
    "new_model.summary()"
   ]
  },
  {
   "cell_type": "code",
   "execution_count": null,
   "id": "c8a8112c-77ed-41b6-a659-5b5a702b06e6",
   "metadata": {},
   "outputs": [],
   "source": [
    "test = [\n",
    "    \"\"\"received from: efgrossm@eng.ucsd.edu Hi UCSD service desk,I am trying to access MyStudentChart, \n",
    "    but my phone broke yesterday. I cannot use DuoMobile to confirm login from my computer. \n",
    "    Can I get a bypass code while I wait for my new phone to come? -Esther\n",
    "    \"\"\"]\n",
    "pred = np.argmax(new_model.predict(x = test))\n",
    "le.inverse_transform([pred])"
   ]
  }
 ],
 "metadata": {
  "kernelspec": {
   "display_name": "Python 3 (ipykernel)",
   "language": "python",
   "name": "python3"
  },
  "language_info": {
   "codemirror_mode": {
    "name": "ipython",
    "version": 3
   },
   "file_extension": ".py",
   "mimetype": "text/x-python",
   "name": "python",
   "nbconvert_exporter": "python",
   "pygments_lexer": "ipython3",
   "version": "3.9.5"
  }
 },
 "nbformat": 4,
 "nbformat_minor": 5
}

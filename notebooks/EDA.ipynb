{
 "cells": [
  {
   "cell_type": "code",
   "execution_count": 1,
   "metadata": {},
   "outputs": [],
   "source": [
    "import pandas as pd\n",
    "import numpy as np\n",
    "import matplotlib.pyplot as plt\n",
    "import seaborn as sns\n",
    "from sklearn.linear_model import LogisticRegression"
   ]
  },
  {
   "cell_type": "code",
   "execution_count": 53,
   "metadata": {},
   "outputs": [
    {
     "data": {
      "text/html": [
       "<div>\n",
       "<style scoped>\n",
       "    .dataframe tbody tr th:only-of-type {\n",
       "        vertical-align: middle;\n",
       "    }\n",
       "\n",
       "    .dataframe tbody tr th {\n",
       "        vertical-align: top;\n",
       "    }\n",
       "\n",
       "    .dataframe thead th {\n",
       "        text-align: right;\n",
       "    }\n",
       "</style>\n",
       "<table border=\"1\" class=\"dataframe\">\n",
       "  <thead>\n",
       "    <tr style=\"text-align: right;\">\n",
       "      <th></th>\n",
       "      <th>short_description</th>\n",
       "      <th>description</th>\n",
       "      <th>service_offering</th>\n",
       "      <th>business_service</th>\n",
       "      <th>resolved_at</th>\n",
       "      <th>u_case_type</th>\n",
       "      <th>u_organization</th>\n",
       "    </tr>\n",
       "  </thead>\n",
       "  <tbody>\n",
       "    <tr>\n",
       "      <th>0</th>\n",
       "      <td>LogPoint Call - UCSD</td>\n",
       "      <td>received from: mike@lh.logpointus.com\\n\\nHi Ro...</td>\n",
       "      <td>Office 365</td>\n",
       "      <td>Collaboration Services</td>\n",
       "      <td>2023-02-06 23:22:49</td>\n",
       "      <td>Request</td>\n",
       "      <td>IT Services</td>\n",
       "    </tr>\n",
       "    <tr>\n",
       "      <th>1</th>\n",
       "      <td>Part 2 Scholarships or Grants</td>\n",
       "      <td>My 1098-T form currently states an amount for ...</td>\n",
       "      <td>1098T Other</td>\n",
       "      <td>Form 1098T</td>\n",
       "      <td>2023-02-11 14:40:52</td>\n",
       "      <td>Request</td>\n",
       "      <td>Student Support</td>\n",
       "    </tr>\n",
       "    <tr>\n",
       "      <th>2</th>\n",
       "      <td>Delegate in eRA Commons, please</td>\n",
       "      <td>received from: aminvielle@ucsd.edu\\n\\nHello,\\n...</td>\n",
       "      <td>Research Administration Support</td>\n",
       "      <td>Research Support Services</td>\n",
       "      <td>2023-02-10 16:42:07</td>\n",
       "      <td>Request</td>\n",
       "      <td>Research</td>\n",
       "    </tr>\n",
       "  </tbody>\n",
       "</table>\n",
       "</div>"
      ],
      "text/plain": [
       "                 short_description  \\\n",
       "0             LogPoint Call - UCSD   \n",
       "1    Part 2 Scholarships or Grants   \n",
       "2  Delegate in eRA Commons, please   \n",
       "\n",
       "                                         description  \\\n",
       "0  received from: mike@lh.logpointus.com\\n\\nHi Ro...   \n",
       "1  My 1098-T form currently states an amount for ...   \n",
       "2  received from: aminvielle@ucsd.edu\\n\\nHello,\\n...   \n",
       "\n",
       "                  service_offering           business_service  \\\n",
       "0                       Office 365     Collaboration Services   \n",
       "1                      1098T Other                 Form 1098T   \n",
       "2  Research Administration Support  Research Support Services   \n",
       "\n",
       "           resolved_at u_case_type   u_organization  \n",
       "0  2023-02-06 23:22:49     Request      IT Services  \n",
       "1  2023-02-11 14:40:52     Request  Student Support  \n",
       "2  2023-02-10 16:42:07     Request         Research  "
      ]
     },
     "execution_count": 53,
     "metadata": {},
     "output_type": "execute_result"
    }
   ],
   "source": [
    "df = pd.read_csv(\n",
    "    \"../data/cases_f.csv\",\n",
    "    encoding=\"utf-8\",\n",
    "    encoding_errors=\"ignore\",\n",
    "    engine=\"c\",\n",
    "    on_bad_lines=\"warn\",\n",
    ")\n",
    "df.head(3)"
   ]
  },
  {
   "cell_type": "markdown",
   "metadata": {},
   "source": [
    "# Exploratory Data Analysis"
   ]
  },
  {
   "cell_type": "code",
   "execution_count": 3,
   "metadata": {},
   "outputs": [],
   "source": [
    "ticket_dist = (\n",
    "    df\n",
    "    .groupby(\"u_organization\", dropna=False)\n",
    "    .size()\n",
    "    .sort_values()\n",
    ") / df.shape[0]"
   ]
  },
  {
   "cell_type": "code",
   "execution_count": 12,
   "metadata": {},
   "outputs": [
    {
     "data": {
      "text/plain": [
       "<AxesSubplot:title={'center':'Distribution of tickets among different organizations'}, ylabel='u_organization'>"
      ]
     },
     "execution_count": 12,
     "metadata": {},
     "output_type": "execute_result"
    },
    {
     "data": {
      "image/png": "[encoded data removed]",
      "text/plain": [
       "<Figure size 864x720 with 1 Axes>"
      ]
     },
     "metadata": {
      "needs_background": "light"
     },
     "output_type": "display_data"
    }
   ],
   "source": [
    "# Find the distribution of tickets among different organizations under ServiceNow\n",
    "ticket_dist.plot(\n",
    "    kind=\"barh\",\n",
    "    figsize=(12, 10),\n",
    "    title=\"Distribution of tickets among different organizations\"\n",
    ")"
   ]
  },
  {
   "cell_type": "code",
   "execution_count": 16,
   "metadata": {},
   "outputs": [
    {
     "data": {
      "text/plain": [
       "Index(['short_description', 'description', 'service_offering',\n",
       "       'business_service', 'resolved_at', 'u_case_type', 'u_organization'],\n",
       "      dtype='object')"
      ]
     },
     "execution_count": 16,
     "metadata": {},
     "output_type": "execute_result"
    }
   ],
   "source": [
    "df.columns"
   ]
  },
  {
   "cell_type": "code",
   "execution_count": 52,
   "metadata": {},
   "outputs": [
    {
     "data": {
      "text/plain": [
       "u_organization\n",
       "Office of Ethics and Compliance     0\n",
       "Chancellor's Office                 1\n",
       "Business Office                     2\n",
       "Library                             4\n",
       "Research                           12\n",
       "Human Resources                    14\n",
       "Resource Management & Planning     19\n",
       "Academic Affairs                   20\n",
       "Advancement                        23\n",
       "Name: service_offering, dtype: int64"
      ]
     },
     "execution_count": 52,
     "metadata": {},
     "output_type": "execute_result"
    }
   ],
   "source": [
    "service_offerings"
   ]
  },
  {
   "cell_type": "code",
   "execution_count": 65,
   "metadata": {},
   "outputs": [
    {
     "data": {
      "text/plain": [
       "u_organization\n",
       "Research                           12\n",
       "Human Resources                    14\n",
       "Resource Management & Planning     19\n",
       "Academic Affairs                   20\n",
       "Advancement                        23\n",
       "UCPath                             38\n",
       "Student Support                    78\n",
       "Budget & Finance Services         318\n",
       "IT Services                       451\n",
       "Name: service_offering, dtype: int64"
      ]
     },
     "execution_count": 65,
     "metadata": {},
     "output_type": "execute_result"
    }
   ],
   "source": [
    "df.groupby(\"u_organization\")[\"service_offering\"].nunique().sort_values(ascending=True)[4:]"
   ]
  },
  {
   "cell_type": "code",
   "execution_count": 69,
   "metadata": {},
   "outputs": [
    {
     "data": {
      "text/plain": [
       "[Text(0, 0, '12'),\n",
       " Text(0, 0, '14'),\n",
       " Text(0, 0, '19'),\n",
       " Text(0, 0, '20'),\n",
       " Text(0, 0, '23'),\n",
       " Text(0, 0, '38'),\n",
       " Text(0, 0, '78'),\n",
       " Text(0, 0, '318'),\n",
       " Text(0, 0, '451')]"
      ]
     },
     "execution_count": 69,
     "metadata": {},
     "output_type": "execute_result"
    },
    {
     "data": {
      "image/png": "[encoded data removed]",
      "text/plain": [
       "<Figure size 720x576 with 1 Axes>"
      ]
     },
     "metadata": {
      "needs_background": "light"
     },
     "output_type": "display_data"
    }
   ],
   "source": [
    "plt.rcParams[\"figure.figsize\"] = (10,8)\n",
    "fig, ax = plt.subplots()\n",
    "service_offerings = df.groupby(\"u_organization\")[\"service_offering\"].nunique().sort_values(ascending=True)[4:]\n",
    "ax.barh(service_offerings.index, service_offerings.values)\n",
    "# bars = service_offerings.plot(kind=\"barh\", figsize=(8,8))\n",
    "ax.bar_label(ax.containers[0], service_offerings.values)"
   ]
  },
  {
   "cell_type": "code",
   "execution_count": 17,
   "metadata": {},
   "outputs": [
    {
     "data": {
      "text/plain": [
       "894"
      ]
     },
     "execution_count": 17,
     "metadata": {},
     "output_type": "execute_result"
    }
   ],
   "source": [
    "df[\"service_offering\"].nunique()"
   ]
  },
  {
   "cell_type": "code",
   "execution_count": 13,
   "metadata": {},
   "outputs": [
    {
     "data": {
      "text/plain": [
       "<Figure size 432x288 with 0 Axes>"
      ]
     },
     "metadata": {},
     "output_type": "display_data"
    }
   ],
   "source": [
    "plt.gcf()\n",
    "plt.savefig(\"../figs/plot1.png\", dpi=300)"
   ]
  },
  {
   "cell_type": "code",
   "execution_count": 14,
   "metadata": {},
   "outputs": [
    {
     "data": {
      "text/html": [
       "<div>\n",
       "<style scoped>\n",
       "    .dataframe tbody tr th:only-of-type {\n",
       "        vertical-align: middle;\n",
       "    }\n",
       "\n",
       "    .dataframe tbody tr th {\n",
       "        vertical-align: top;\n",
       "    }\n",
       "\n",
       "    .dataframe thead th {\n",
       "        text-align: right;\n",
       "    }\n",
       "</style>\n",
       "<table border=\"1\" class=\"dataframe\">\n",
       "  <thead>\n",
       "    <tr style=\"text-align: right;\">\n",
       "      <th></th>\n",
       "      <th>short_description</th>\n",
       "      <th>description</th>\n",
       "      <th>service_offering</th>\n",
       "      <th>business_service</th>\n",
       "      <th>resolved_at</th>\n",
       "      <th>u_case_type</th>\n",
       "      <th>u_organization</th>\n",
       "    </tr>\n",
       "  </thead>\n",
       "  <tbody>\n",
       "    <tr>\n",
       "      <th>0</th>\n",
       "      <td>LogPoint Call - UCSD</td>\n",
       "      <td>received from: mike@lh.logpointus.com\\n\\nHi Ro...</td>\n",
       "      <td>Office 365</td>\n",
       "      <td>Collaboration Services</td>\n",
       "      <td>2023-02-06 23:22:49</td>\n",
       "      <td>Request</td>\n",
       "      <td>IT Services</td>\n",
       "    </tr>\n",
       "    <tr>\n",
       "      <th>1</th>\n",
       "      <td>Part 2 Scholarships or Grants</td>\n",
       "      <td>My 1098-T form currently states an amount for ...</td>\n",
       "      <td>1098T Other</td>\n",
       "      <td>Form 1098T</td>\n",
       "      <td>2023-02-11 14:40:52</td>\n",
       "      <td>Request</td>\n",
       "      <td>Student Support</td>\n",
       "    </tr>\n",
       "    <tr>\n",
       "      <th>2</th>\n",
       "      <td>Delegate in eRA Commons, please</td>\n",
       "      <td>received from: aminvielle@ucsd.edu\\n\\nHello,\\n...</td>\n",
       "      <td>Research Administration Support</td>\n",
       "      <td>Research Support Services</td>\n",
       "      <td>2023-02-10 16:42:07</td>\n",
       "      <td>Request</td>\n",
       "      <td>Research</td>\n",
       "    </tr>\n",
       "    <tr>\n",
       "      <th>3</th>\n",
       "      <td>Triton link &amp; E-mail Account</td>\n",
       "      <td>My student email account was converted from st...</td>\n",
       "      <td>Non ITS Support</td>\n",
       "      <td>Service Notifications &amp; External Support</td>\n",
       "      <td>2023-01-19 07:40:12</td>\n",
       "      <td>Request</td>\n",
       "      <td>IT Services</td>\n",
       "    </tr>\n",
       "    <tr>\n",
       "      <th>4</th>\n",
       "      <td>Alondra Orozco Osuna - VC Student Affairs - Ch...</td>\n",
       "      <td>Fix email and active directory set-up.\\n\\nThis...</td>\n",
       "      <td>Active Directory - ITS</td>\n",
       "      <td>Access &amp; Identity Management</td>\n",
       "      <td>2022-12-23 15:33:10</td>\n",
       "      <td>Request</td>\n",
       "      <td>IT Services</td>\n",
       "    </tr>\n",
       "  </tbody>\n",
       "</table>\n",
       "</div>"
      ],
      "text/plain": [
       "                                   short_description  \\\n",
       "0                               LogPoint Call - UCSD   \n",
       "1                      Part 2 Scholarships or Grants   \n",
       "2                    Delegate in eRA Commons, please   \n",
       "3                       Triton link & E-mail Account   \n",
       "4  Alondra Orozco Osuna - VC Student Affairs - Ch...   \n",
       "\n",
       "                                         description  \\\n",
       "0  received from: mike@lh.logpointus.com\\n\\nHi Ro...   \n",
       "1  My 1098-T form currently states an amount for ...   \n",
       "2  received from: aminvielle@ucsd.edu\\n\\nHello,\\n...   \n",
       "3  My student email account was converted from st...   \n",
       "4  Fix email and active directory set-up.\\n\\nThis...   \n",
       "\n",
       "                  service_offering                          business_service  \\\n",
       "0                       Office 365                    Collaboration Services   \n",
       "1                      1098T Other                                Form 1098T   \n",
       "2  Research Administration Support                 Research Support Services   \n",
       "3                  Non ITS Support  Service Notifications & External Support   \n",
       "4           Active Directory - ITS              Access & Identity Management   \n",
       "\n",
       "           resolved_at u_case_type   u_organization  \n",
       "0  2023-02-06 23:22:49     Request      IT Services  \n",
       "1  2023-02-11 14:40:52     Request  Student Support  \n",
       "2  2023-02-10 16:42:07     Request         Research  \n",
       "3  2023-01-19 07:40:12     Request      IT Services  \n",
       "4  2022-12-23 15:33:10     Request      IT Services  "
      ]
     },
     "execution_count": 14,
     "metadata": {},
     "output_type": "execute_result"
    }
   ],
   "source": [
    "df.head()"
   ]
  },
  {
   "cell_type": "code",
   "execution_count": 5,
   "metadata": {},
   "outputs": [
    {
     "data": {
      "text/plain": [
       "0.8871320000000001"
      ]
     },
     "execution_count": 5,
     "metadata": {},
     "output_type": "execute_result"
    }
   ],
   "source": [
    "ticket_dist.values[-1:-5:-1].sum()"
   ]
  },
  {
   "cell_type": "markdown",
   "metadata": {},
   "source": [
    "#### Omitting the null class, we have 13 possible classes. Of which, 6 classes appeared with less than 2% of the time. and 4 classes are below 5%. This means that we may get high accuracy for classifying tickets that may fall into the 4 categories that comprises 88.7% of the training data."
   ]
  },
  {
   "cell_type": "markdown",
   "metadata": {},
   "source": [
    "We may want to separate the data into two groups: one for the top 4 organizations and the other for the rest.\n",
    "Alternatively, we can use a third group with all of the organizations to test our accuracy"
   ]
  },
  {
   "cell_type": "code",
   "execution_count": 6,
   "metadata": {},
   "outputs": [
    {
     "data": {
      "text/plain": [
       "Index(['short_description', 'description', 'service_offering',\n",
       "       'business_service', 'resolved_at', 'u_case_type', 'u_organization'],\n",
       "      dtype='object')"
      ]
     },
     "execution_count": 6,
     "metadata": {},
     "output_type": "execute_result"
    }
   ],
   "source": [
    "df.columns"
   ]
  },
  {
   "cell_type": "code",
   "execution_count": 7,
   "metadata": {},
   "outputs": [],
   "source": [
    "service_dist = (\n",
    "    df\n",
    "    .groupby(\"service_offering\", dropna=False)\n",
    "    .size()\n",
    "    .sort_values()\n",
    ") / df.shape[0]"
   ]
  },
  {
   "cell_type": "markdown",
   "metadata": {},
   "source": [
    "The range of the distribution is about 8.59% which means that they are pretty evenly distributed and we don't have to worry about an class inbalance problem"
   ]
  },
  {
   "cell_type": "code",
   "execution_count": 8,
   "metadata": {},
   "outputs": [
    {
     "data": {
      "text/plain": [
       "count    895.000000\n",
       "mean       0.001117\n",
       "std        0.004975\n",
       "min        0.000001\n",
       "25%        0.000017\n",
       "50%        0.000097\n",
       "75%        0.000492\n",
       "max        0.085926\n",
       "dtype: float64"
      ]
     },
     "execution_count": 8,
     "metadata": {},
     "output_type": "execute_result"
    }
   ],
   "source": [
    "service_dist.describe()"
   ]
  },
  {
   "cell_type": "code",
   "execution_count": 9,
   "metadata": {},
   "outputs": [
    {
     "name": "stdout",
     "output_type": "stream",
     "text": [
      "[0, 0.001205]\n"
     ]
    },
    {
     "data": {
      "text/plain": [
       "<AxesSubplot:>"
      ]
     },
     "execution_count": 9,
     "metadata": {},
     "output_type": "execute_result"
    },
    {
     "data": {
      "image/png": "[encoded data removed]",
      "text/plain": [
       "<Figure size 432x288 with 1 Axes>"
      ]
     },
     "metadata": {
      "needs_background": "light"
     },
     "output_type": "display_data"
    }
   ],
   "source": [
    "c = 1.5\n",
    "q3 = service_dist.quantile(0.75)\n",
    "q1 = service_dist.quantile(0.25)\n",
    "IQR = q3 - q1\n",
    "val_range = [max(0, q1 - c * IQR),  max(0, q3 + c * IQR)]\n",
    "print(val_range)\n",
    "sns.boxplot(y = service_dist.values)"
   ]
  },
  {
   "cell_type": "markdown",
   "metadata": {},
   "source": [
    "# Models"
   ]
  },
  {
   "cell_type": "code",
   "execution_count": null,
   "metadata": {},
   "outputs": [],
   "source": []
  },
  {
   "cell_type": "markdown",
   "metadata": {},
   "source": [
    "# Problem\n",
    "Sevice offering are often specific to the organization. If our prediction for service offering does not match the organization it falls under, how should we treat it?\n",
    "Approach\n",
    "1) We can group by each organization and have the user select the organization so we can narrow the problem down the prediction output to be R1 instead of R2\n",
    "2) We enforce a constraints so that if the algorithm predicts a serivce offering, then it must predict a organization that it falls under\n",
    "3) We only predict service offering and we select the organization based on it.\n",
    "\n",
    "We are going with approach number 3"
   ]
  },
  {
   "cell_type": "markdown",
   "metadata": {},
   "source": [
    "Data Wrangling:"
   ]
  },
  {
   "cell_type": "code",
   "execution_count": 10,
   "metadata": {},
   "outputs": [],
   "source": [
    "df_all = df.assign(\n",
    "    desc_len = df.description.str.len(),\n",
    "    num_tokens = df.description.str.split().str.len(),\n",
    ")"
   ]
  },
  {
   "cell_type": "markdown",
   "metadata": {},
   "source": [
    "Fill in the missing values with blank strings for text data and 0 for numerical data."
   ]
  },
  {
   "cell_type": "code",
   "execution_count": 11,
   "metadata": {},
   "outputs": [
    {
     "ename": "AttributeError",
     "evalue": "'DataFrame' object has no attribute 'desc_len'",
     "output_type": "error",
     "traceback": [
      "\u001b[0;31m---------------------------------------------------------------------------\u001b[0m",
      "\u001b[0;31mAttributeError\u001b[0m                            Traceback (most recent call last)",
      "\u001b[0;32m/tmp/ipykernel_1022/2295992786.py\u001b[0m in \u001b[0;36m<module>\u001b[0;34m\u001b[0m\n\u001b[1;32m      3\u001b[0m \u001b[0mdf\u001b[0m\u001b[0;34m.\u001b[0m\u001b[0mdescription\u001b[0m \u001b[0;34m=\u001b[0m \u001b[0mdf\u001b[0m\u001b[0;34m.\u001b[0m\u001b[0mdescription\u001b[0m\u001b[0;34m.\u001b[0m\u001b[0mfillna\u001b[0m\u001b[0;34m(\u001b[0m\u001b[0;34m\"\"\u001b[0m\u001b[0;34m)\u001b[0m\u001b[0;34m\u001b[0m\u001b[0;34m\u001b[0m\u001b[0m\n\u001b[1;32m      4\u001b[0m \u001b[0mdf\u001b[0m\u001b[0;34m.\u001b[0m\u001b[0mbusiness_service\u001b[0m \u001b[0;34m=\u001b[0m \u001b[0mdf\u001b[0m\u001b[0;34m.\u001b[0m\u001b[0mbusiness_service\u001b[0m\u001b[0;34m.\u001b[0m\u001b[0mfillna\u001b[0m\u001b[0;34m(\u001b[0m\u001b[0;34m\"\"\u001b[0m\u001b[0;34m)\u001b[0m\u001b[0;34m\u001b[0m\u001b[0;34m\u001b[0m\u001b[0m\n\u001b[0;32m----> 5\u001b[0;31m \u001b[0mdf\u001b[0m\u001b[0;34m.\u001b[0m\u001b[0mdesc_len\u001b[0m \u001b[0;34m=\u001b[0m \u001b[0mdf\u001b[0m\u001b[0;34m.\u001b[0m\u001b[0mdesc_len\u001b[0m\u001b[0;34m.\u001b[0m\u001b[0mfillna\u001b[0m\u001b[0;34m(\u001b[0m\u001b[0;36m0\u001b[0m\u001b[0;34m)\u001b[0m\u001b[0;34m\u001b[0m\u001b[0;34m\u001b[0m\u001b[0m\n\u001b[0m\u001b[1;32m      6\u001b[0m \u001b[0mdf\u001b[0m\u001b[0;34m.\u001b[0m\u001b[0mnum_tokens\u001b[0m \u001b[0;34m=\u001b[0m \u001b[0mdf\u001b[0m\u001b[0;34m.\u001b[0m\u001b[0mnum_tokens\u001b[0m\u001b[0;34m.\u001b[0m\u001b[0mfillna\u001b[0m\u001b[0;34m(\u001b[0m\u001b[0;36m0\u001b[0m\u001b[0;34m)\u001b[0m\u001b[0;34m\u001b[0m\u001b[0;34m\u001b[0m\u001b[0m\n",
      "\u001b[0;32m/opt/conda/lib/python3.9/site-packages/pandas/core/generic.py\u001b[0m in \u001b[0;36m__getattr__\u001b[0;34m(self, name)\u001b[0m\n\u001b[1;32m   5485\u001b[0m         ):\n\u001b[1;32m   5486\u001b[0m             \u001b[0;32mreturn\u001b[0m \u001b[0mself\u001b[0m\u001b[0;34m[\u001b[0m\u001b[0mname\u001b[0m\u001b[0;34m]\u001b[0m\u001b[0;34m\u001b[0m\u001b[0;34m\u001b[0m\u001b[0m\n\u001b[0;32m-> 5487\u001b[0;31m         \u001b[0;32mreturn\u001b[0m \u001b[0mobject\u001b[0m\u001b[0;34m.\u001b[0m\u001b[0m__getattribute__\u001b[0m\u001b[0;34m(\u001b[0m\u001b[0mself\u001b[0m\u001b[0;34m,\u001b[0m \u001b[0mname\u001b[0m\u001b[0;34m)\u001b[0m\u001b[0;34m\u001b[0m\u001b[0;34m\u001b[0m\u001b[0m\n\u001b[0m\u001b[1;32m   5488\u001b[0m \u001b[0;34m\u001b[0m\u001b[0m\n\u001b[1;32m   5489\u001b[0m     \u001b[0;32mdef\u001b[0m \u001b[0m__setattr__\u001b[0m\u001b[0;34m(\u001b[0m\u001b[0mself\u001b[0m\u001b[0;34m,\u001b[0m \u001b[0mname\u001b[0m\u001b[0;34m:\u001b[0m \u001b[0mstr\u001b[0m\u001b[0;34m,\u001b[0m \u001b[0mvalue\u001b[0m\u001b[0;34m)\u001b[0m \u001b[0;34m->\u001b[0m \u001b[0;32mNone\u001b[0m\u001b[0;34m:\u001b[0m\u001b[0;34m\u001b[0m\u001b[0;34m\u001b[0m\u001b[0m\n",
      "\u001b[0;31mAttributeError\u001b[0m: 'DataFrame' object has no attribute 'desc_len'"
     ]
    }
   ],
   "source": [
    "df = df.dropna(subset=[\"service_offering\"])\n",
    "df.short_description = df.short_description.fillna(\"\")\n",
    "df.description = df.description.fillna(\"\")\n",
    "df.business_service = df.business_service.fillna(\"\")\n",
    "df.desc_len = df.desc_len.fillna(0)\n",
    "df.num_tokens = df.num_tokens.fillna(0)"
   ]
  },
  {
   "cell_type": "markdown",
   "metadata": {},
   "source": [
    "Exploratory Data Analysis"
   ]
  },
  {
   "cell_type": "code",
   "execution_count": null,
   "metadata": {},
   "outputs": [],
   "source": [
    "df.describe()"
   ]
  },
  {
   "cell_type": "code",
   "execution_count": null,
   "metadata": {},
   "outputs": [],
   "source": [
    "service_off_graph1 = df.groupby(\"service_offering\").agg({\n",
    "    \"description\": \"count\",\n",
    "    \"desc_len\": [\"mean\", \"median\"],\n",
    "    \"num_tokens\": [\"mean\", \"median\"],\n",
    "}).sort_values((\"description\", \"count\"), ascending=False)"
   ]
  },
  {
   "cell_type": "code",
   "execution_count": null,
   "metadata": {},
   "outputs": [],
   "source": [
    "(\n",
    "    df[\"service_offering\"]\n",
    "    .value_counts(normalize=True)[10::-1]\n",
    "    .plot(kind=\"barh\")\n",
    ")"
   ]
  },
  {
   "cell_type": "code",
   "execution_count": null,
   "metadata": {},
   "outputs": [],
   "source": [
    "(\n",
    "    df[\"business_service\"]\n",
    "    .value_counts(normalize=True)[10::-1]\n",
    "    .plot(kind=\"barh\")\n",
    ")"
   ]
  },
  {
   "cell_type": "markdown",
   "metadata": {},
   "source": [
    "We want to find the distribution of the character length of the description and number of tokens so we can find their distribution."
   ]
  },
  {
   "cell_type": "code",
   "execution_count": null,
   "metadata": {},
   "outputs": [],
   "source": [
    "sns.histplot(df[\"desc_len\"], bins=10)"
   ]
  },
  {
   "cell_type": "code",
   "execution_count": null,
   "metadata": {},
   "outputs": [],
   "source": [
    "sns.histplot(df[\"num_tokens\"], bins=10)"
   ]
  },
  {
   "cell_type": "markdown",
   "metadata": {},
   "source": [
    "Since the distribution is heavily skewed to the right, we are opting to use a logarithmic scale since it deals great with outlier. If we opted to use the Z-score, the mean would be heavily skewed to the right and mean would be significantly greater than the median."
   ]
  },
  {
   "cell_type": "code",
   "execution_count": null,
   "metadata": {},
   "outputs": [],
   "source": [
    "df = df.assign(\n",
    "    log_desc_len = np.log(df.desc_len),\n",
    "    log_num_tokens = np.log(df.num_tokens),\n",
    ")"
   ]
  },
  {
   "cell_type": "markdown",
   "metadata": {},
   "source": [
    "No newton-cholesky because it has a quadratic dependence on the number of features."
   ]
  },
  {
   "cell_type": "code",
   "execution_count": null,
   "metadata": {},
   "outputs": [],
   "source": [
    "X1, X2, y = df.log_desc_len, df.log_num_tokens, df.service_offering"
   ]
  },
  {
   "cell_type": "code",
   "execution_count": null,
   "metadata": {},
   "outputs": [],
   "source": []
  },
  {
   "cell_type": "code",
   "execution_count": null,
   "metadata": {},
   "outputs": [],
   "source": []
  },
  {
   "cell_type": "code",
   "execution_count": null,
   "metadata": {},
   "outputs": [],
   "source": []
  }
 ],
 "metadata": {
  "kernelspec": {
   "display_name": "Python 3 (ipykernel)",
   "language": "python",
   "name": "python3"
  },
  "language_info": {
   "codemirror_mode": {
    "name": "ipython",
    "version": 3
   },
   "file_extension": ".py",
   "mimetype": "text/x-python",
   "name": "python",
   "nbconvert_exporter": "python",
   "pygments_lexer": "ipython3",
   "version": "3.9.5"
  },
  "vscode": {
   "interpreter": {
    "hash": "9179d63e122556c6756b68a7ef958f74b99cc51ba44ce56116c8db8491528148"
   }
  }
 },
 "nbformat": 4,
 "nbformat_minor": 4
}

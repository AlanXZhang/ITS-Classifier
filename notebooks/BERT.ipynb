{
 "cells": [
  {
   "cell_type": "code",
   "execution_count": 2,
   "id": "06836a81-f69c-4d78-860d-695fdf5b8a74",
   "metadata": {},
   "outputs": [
    {
     "name": "stdout",
     "output_type": "stream",
     "text": [
      "Mon Jun 12 23:38:21 2023       \n",
      "+-----------------------------------------------------------------------------+\n",
      "| NVIDIA-SMI 384.81                 Driver Version: 460.67                    |\n",
      "|-------------------------------+----------------------+----------------------+\n",
      "| GPU  Name        Persistence-M| Bus-Id        Disp.A | Volatile Uncorr. ECC |\n",
      "| Fan  Temp  Perf  Pwr:Usage/Cap|         Memory-Usage | GPU-Util  Compute M. |\n",
      "|===============================+======================+======================|\n",
      "|   0  GeForce GTX 108...  Off  | 00000000:85:00.0 Off |                  N/A |\n",
      "| 23%   32C    P8    10W / 250W |      2MiB / 11178MiB |      0%      Default |\n",
      "+-------------------------------+----------------------+----------------------+\n",
      "                                                                               \n",
      "+-----------------------------------------------------------------------------+\n",
      "| Processes:                                                       GPU Memory |\n",
      "|  GPU       PID   Type   Process name                             Usage      |\n",
      "|=============================================================================|\n",
      "Internal error\n"
     ]
    }
   ],
   "source": [
    "!nvidia-smi"
   ]
  },
  {
   "cell_type": "code",
   "execution_count": 3,
   "id": "6dd0e240-fa46-4af0-b9e6-849a140fadf7",
   "metadata": {},
   "outputs": [
    {
     "name": "stderr",
     "output_type": "stream",
     "text": [
      "2023-06-12 23:38:22.516658: I tensorflow/core/platform/cpu_feature_guard.cc:193] This TensorFlow binary is optimized with oneAPI Deep Neural Network Library (oneDNN) to use the following CPU instructions in performance-critical operations:  AVX2 FMA\n",
      "To enable them in other operations, rebuild TensorFlow with the appropriate compiler flags.\n",
      "2023-06-12 23:38:22.697456: W tensorflow/compiler/xla/stream_executor/platform/default/dso_loader.cc:64] Could not load dynamic library 'libcudart.so.11.0'; dlerror: libcudart.so.11.0: cannot open shared object file: No such file or directory; LD_LIBRARY_PATH: /usr/local/nvidia/lib:/usr/local/nvidia/lib64\n",
      "2023-06-12 23:38:22.697506: I tensorflow/compiler/xla/stream_executor/cuda/cudart_stub.cc:29] Ignore above cudart dlerror if you do not have a GPU set up on your machine.\n",
      "2023-06-12 23:38:24.422616: W tensorflow/compiler/xla/stream_executor/platform/default/dso_loader.cc:64] Could not load dynamic library 'libnvinfer.so.7'; dlerror: libnvinfer.so.7: cannot open shared object file: No such file or directory; LD_LIBRARY_PATH: /usr/local/nvidia/lib:/usr/local/nvidia/lib64\n",
      "2023-06-12 23:38:24.422802: W tensorflow/compiler/xla/stream_executor/platform/default/dso_loader.cc:64] Could not load dynamic library 'libnvinfer_plugin.so.7'; dlerror: libnvinfer_plugin.so.7: cannot open shared object file: No such file or directory; LD_LIBRARY_PATH: /usr/local/nvidia/lib:/usr/local/nvidia/lib64\n",
      "2023-06-12 23:38:24.422825: W tensorflow/compiler/tf2tensorrt/utils/py_utils.cc:38] TF-TRT Warning: Cannot dlopen some TensorRT libraries. If you would like to use Nvidia GPU with TensorRT, please make sure the missing libraries mentioned above are installed properly.\n"
     ]
    }
   ],
   "source": [
    "import pandas as pd\n",
    "import numpy as np\n",
    "\n",
    "import tensorflow as tf\n",
    "import tensorflow_hub as hub\n",
    "import tensorflow_text as text\n",
    "from official.nlp import optimization\n",
    "\n",
    "from sklearn.model_selection import train_test_split\n",
    "from sklearn.preprocessing import LabelEncoder\n",
    "\n",
    "tf.get_logger().setLevel('ERROR')"
   ]
  },
  {
   "cell_type": "code",
   "execution_count": 4,
   "id": "a758aecb-b017-4554-aaf5-52c142e23320",
   "metadata": {
    "tags": []
   },
   "outputs": [],
   "source": [
    "# df = pd.read_csv(\"../data/cases_f_cleaned.csv\")\n",
    "# df = df.loc[df[\"u_organization\"] == \"IT Services\", [\"description\", \"service_offering\"]]\n",
    "# top_25_services = df.groupby(\"service_offering\").count().sort_values(by=\"description\", ascending=False)[:25].index\n",
    "# df[\"service_offering\"] = df[\"service_offering\"].apply(lambda x: x if x in top_25_services else \"Other\")\n",
    "# df[\"description\"] = df[\"description\"].fillna(\"\")\n",
    "# df.to_csv(\"../data/processed_its_top_25.csv\")"
   ]
  },
  {
   "cell_type": "code",
   "execution_count": 5,
   "id": "7d9e3830-a062-4471-81c9-0e6e59fca071",
   "metadata": {},
   "outputs": [],
   "source": [
    "filename = \"../data/processed_its_top_25.csv\""
   ]
  },
  {
   "cell_type": "code",
   "execution_count": 6,
   "id": "5081b1d9-9e6e-4c62-991a-14b0cf5a1477",
   "metadata": {},
   "outputs": [],
   "source": [
    "df = pd.read_csv(filename)\n",
    "df[\"description\"] = df[\"description\"].fillna(\"\")\n",
    "X = df[\"description\"].fillna(\"None\").to_numpy()\n",
    "le = LabelEncoder()\n",
    "y = le.fit(df[\"service_offering\"])"
   ]
  },
  {
   "cell_type": "code",
   "execution_count": 7,
   "id": "3904938a-0d9a-4c88-b310-713960303243",
   "metadata": {},
   "outputs": [],
   "source": [
    "# Sample 800 descriptions from each of the 25 service_offering and the other categories\n",
    "groups = df.groupby(\"service_offering\")[\"description\"]\n",
    "dataset = {\"X\":[], \"y\":[]}\n",
    "for service, group in groups:\n",
    "    dataset[\"y\"].extend([service for _ in range(800)])\n",
    "    dataset[\"X\"].extend(group.sample(800).values)\n",
    "X_train, X_val, y_train, y_val = train_test_split(np.array(dataset[\"X\"]), dataset[\"y\"], test_size = 0.2, random_state=42, stratify=dataset[\"y\"])"
   ]
  },
  {
   "cell_type": "code",
   "execution_count": 8,
   "id": "fca4443b-bfca-4238-ac81-1b0ea350d1ce",
   "metadata": {},
   "outputs": [
    {
     "data": {
      "text/plain": [
       "(16640, 4160, 16640, 4160)"
      ]
     },
     "execution_count": 8,
     "metadata": {},
     "output_type": "execute_result"
    }
   ],
   "source": [
    "len(X_train), len(X_val), len(y_train), len(y_val)"
   ]
  },
  {
   "cell_type": "code",
   "execution_count": 9,
   "id": "37864756-68ec-4df7-ad30-419ebab49a74",
   "metadata": {},
   "outputs": [
    {
     "ename": "ValueError",
     "evalue": "y contains previously unseen labels: ['Access to Business Applications' 'Active Directory - ITS'\n 'Campus Wired Networking' 'Campus Wireless Networking' 'Canvas LMS'\n 'Domain Name Registration' 'Enterprise Software Licensing Support'\n 'Exchange Online' 'Hardware Endpoint Support' 'Health IT Services '\n 'IP Address Management (hostmaint, ethernet registration form) '\n 'MultiFactor Authentication' 'Non ITS Support' 'Office 365'\n 'Online Directory' 'Other' 'Password reset'\n 'Platform Operations & Management ' 'SSL / Digital Certificates'\n 'Single Sign-on' 'Software Endpoint Support' 'Spam / Duplicate Case'\n 'Virtual Private Network (VPN)' 'Web & Video Conferencing (Zoom)'\n 'Web Content Management' 'Wireless Residential Networking']",
     "output_type": "error",
     "traceback": [
      "\u001b[0;31m---------------------------------------------------------------------------\u001b[0m",
      "\u001b[0;31mValueError\u001b[0m                                Traceback (most recent call last)",
      "\u001b[0;32m/tmp/ipykernel_4069/452866967.py\u001b[0m in \u001b[0;36m<module>\u001b[0;34m\u001b[0m\n\u001b[0;32m----> 1\u001b[0;31m \u001b[0mle\u001b[0m\u001b[0;34m.\u001b[0m\u001b[0minverse_transform\u001b[0m\u001b[0;34m(\u001b[0m\u001b[0my_val\u001b[0m\u001b[0;34m)\u001b[0m\u001b[0;34m\u001b[0m\u001b[0;34m\u001b[0m\u001b[0m\n\u001b[0m",
      "\u001b[0;32m/opt/conda/lib/python3.9/site-packages/sklearn/preprocessing/_label.py\u001b[0m in \u001b[0;36minverse_transform\u001b[0;34m(self, y)\u001b[0m\n\u001b[1;32m    158\u001b[0m         \u001b[0mdiff\u001b[0m \u001b[0;34m=\u001b[0m \u001b[0mnp\u001b[0m\u001b[0;34m.\u001b[0m\u001b[0msetdiff1d\u001b[0m\u001b[0;34m(\u001b[0m\u001b[0my\u001b[0m\u001b[0;34m,\u001b[0m \u001b[0mnp\u001b[0m\u001b[0;34m.\u001b[0m\u001b[0marange\u001b[0m\u001b[0;34m(\u001b[0m\u001b[0mlen\u001b[0m\u001b[0;34m(\u001b[0m\u001b[0mself\u001b[0m\u001b[0;34m.\u001b[0m\u001b[0mclasses_\u001b[0m\u001b[0;34m)\u001b[0m\u001b[0;34m)\u001b[0m\u001b[0;34m)\u001b[0m\u001b[0;34m\u001b[0m\u001b[0;34m\u001b[0m\u001b[0m\n\u001b[1;32m    159\u001b[0m         \u001b[0;32mif\u001b[0m \u001b[0mlen\u001b[0m\u001b[0;34m(\u001b[0m\u001b[0mdiff\u001b[0m\u001b[0;34m)\u001b[0m\u001b[0;34m:\u001b[0m\u001b[0;34m\u001b[0m\u001b[0;34m\u001b[0m\u001b[0m\n\u001b[0;32m--> 160\u001b[0;31m             raise ValueError(\n\u001b[0m\u001b[1;32m    161\u001b[0m                     \"y contains previously unseen labels: %s\" % str(diff))\n\u001b[1;32m    162\u001b[0m         \u001b[0my\u001b[0m \u001b[0;34m=\u001b[0m \u001b[0mnp\u001b[0m\u001b[0;34m.\u001b[0m\u001b[0masarray\u001b[0m\u001b[0;34m(\u001b[0m\u001b[0my\u001b[0m\u001b[0;34m)\u001b[0m\u001b[0;34m\u001b[0m\u001b[0;34m\u001b[0m\u001b[0m\n",
      "\u001b[0;31mValueError\u001b[0m: y contains previously unseen labels: ['Access to Business Applications' 'Active Directory - ITS'\n 'Campus Wired Networking' 'Campus Wireless Networking' 'Canvas LMS'\n 'Domain Name Registration' 'Enterprise Software Licensing Support'\n 'Exchange Online' 'Hardware Endpoint Support' 'Health IT Services '\n 'IP Address Management (hostmaint, ethernet registration form) '\n 'MultiFactor Authentication' 'Non ITS Support' 'Office 365'\n 'Online Directory' 'Other' 'Password reset'\n 'Platform Operations & Management ' 'SSL / Digital Certificates'\n 'Single Sign-on' 'Software Endpoint Support' 'Spam / Duplicate Case'\n 'Virtual Private Network (VPN)' 'Web & Video Conferencing (Zoom)'\n 'Web Content Management' 'Wireless Residential Networking']"
     ]
    }
   ],
   "source": [
    "le.inverse_transform(y_val)"
   ]
  },
  {
   "cell_type": "code",
   "execution_count": null,
   "id": "1e847fd8-a35a-43b9-8aee-6ae01474e1e9",
   "metadata": {},
   "outputs": [],
   "source": [
    "val_df = pd.DataFrame(data={\"desc\": X_val, \"service_offering\":le.inverse_transform(y_val)})"
   ]
  },
  {
   "cell_type": "code",
   "execution_count": null,
   "id": "b87eb7b2-8bbb-489a-8917-37b4ebb65fee",
   "metadata": {},
   "outputs": [],
   "source": [
    "val_df.head()"
   ]
  },
  {
   "cell_type": "code",
   "execution_count": null,
   "id": "85dc209b-75d0-49de-a916-9068ed184761",
   "metadata": {},
   "outputs": [],
   "source": [
    "le.inverse_transform([0,1])"
   ]
  },
  {
   "cell_type": "code",
   "execution_count": null,
   "id": "e259aafc-48bb-4ed4-8bc1-6a780199bf4c",
   "metadata": {},
   "outputs": [],
   "source": [
    "np.save(\"services.npy\", le.classes_)"
   ]
  },
  {
   "cell_type": "code",
   "execution_count": null,
   "id": "87d3e6ed-6a40-4f82-aff2-08f8869fea39",
   "metadata": {},
   "outputs": [],
   "source": [
    "val_df.to_csv(\"../data/validation_set.csv\")"
   ]
  },
  {
   "cell_type": "code",
   "execution_count": null,
   "id": "970bd0f7-9866-4a6b-9c35-7660ce4576c8",
   "metadata": {},
   "outputs": [],
   "source": [
    "print(np.unique(np.array(y_val), return_counts=True))"
   ]
  },
  {
   "cell_type": "code",
   "execution_count": null,
   "id": "edf1850e-0ac9-4632-8f81-89ce0bad6f3e",
   "metadata": {},
   "outputs": [],
   "source": [
    "print(len(X_train),len(X_val), len(y_train), len(y_val))\n",
    "# Validate that the split was done successfully\n",
    "print(np.unique(np.array(y_train), return_counts=True))\n",
    "# Downside of this approach is that it massivley undersamples Other categories\n",
    "y_train, y_val = le.transform(y_train), le.transform(y_val)\n",
    "num_classes = len(le.classes_)"
   ]
  },
  {
   "cell_type": "code",
   "execution_count": null,
   "id": "1a303454-e97b-4967-a19d-8f9db70d7940",
   "metadata": {},
   "outputs": [],
   "source": [
    "# df = pd.read_csv(\"../data/processed_its_top_25.csv\")\n",
    "# df[\"description\"] = df[\"description\"].fillna(\"\")\n",
    "# X = df[\"description\"].fillna(\"None\").to_numpy()\n",
    "# le = LabelEncoder()\n",
    "# y = le.fit_transform(df[\"service_offering\"])\n",
    "# num_classes = len(le.classes_)\n",
    "# # Use the following line if you plan to use CategoricalCrossentropy as the loss function\n",
    "# # y = tf.keras.utils.to_categorical(y, num_classes=num_classes)\n",
    "# X_discard, X, y_discard, y = train_test_split(X, y, test_size=0.05, random_state=42, stratify=y)\n",
    "# X_train, X_val, y_train, y_val = train_test_split(X, y, test_size=0.25, random_state=42, stratify=y)"
   ]
  },
  {
   "cell_type": "code",
   "execution_count": null,
   "id": "65ff6c17-2c82-4b03-9d17-0f0fd9ecbc4d",
   "metadata": {
    "tags": []
   },
   "outputs": [],
   "source": [
    "bert_model_name = 'small_bert/bert_en_uncased_L-4_H-256_A-4' \n",
    "\n",
    "map_name_to_handle = {\n",
    "    'bert_en_uncased_L-12_H-768_A-12':\n",
    "        'https://tfhub.dev/tensorflow/bert_en_uncased_L-12_H-768_A-12/3',\n",
    "    'bert_en_cased_L-12_H-768_A-12':\n",
    "        'https://tfhub.dev/tensorflow/bert_en_cased_L-12_H-768_A-12/3',\n",
    "    'bert_multi_cased_L-12_H-768_A-12':\n",
    "        'https://tfhub.dev/tensorflow/bert_multi_cased_L-12_H-768_A-12/3',\n",
    "    'small_bert/bert_en_uncased_L-2_H-128_A-2':\n",
    "        'https://tfhub.dev/tensorflow/small_bert/bert_en_uncased_L-2_H-128_A-2/1',\n",
    "    'small_bert/bert_en_uncased_L-2_H-256_A-4':\n",
    "        'https://tfhub.dev/tensorflow/small_bert/bert_en_uncased_L-2_H-256_A-4/1',\n",
    "    'small_bert/bert_en_uncased_L-2_H-512_A-8':\n",
    "        'https://tfhub.dev/tensorflow/small_bert/bert_en_uncased_L-2_H-512_A-8/1',\n",
    "    'small_bert/bert_en_uncased_L-2_H-768_A-12':\n",
    "        'https://tfhub.dev/tensorflow/small_bert/bert_en_uncased_L-2_H-768_A-12/1',\n",
    "    'small_bert/bert_en_uncased_L-4_H-128_A-2':\n",
    "        'https://tfhub.dev/tensorflow/small_bert/bert_en_uncased_L-4_H-128_A-2/1',\n",
    "    'small_bert/bert_en_uncased_L-4_H-256_A-4':\n",
    "        'https://tfhub.dev/tensorflow/small_bert/bert_en_uncased_L-4_H-256_A-4/1',\n",
    "    'small_bert/bert_en_uncased_L-4_H-512_A-8':\n",
    "        'https://tfhub.dev/tensorflow/small_bert/bert_en_uncased_L-4_H-512_A-8/1',\n",
    "    'small_bert/bert_en_uncased_L-4_H-768_A-12':\n",
    "        'https://tfhub.dev/tensorflow/small_bert/bert_en_uncased_L-4_H-768_A-12/1',\n",
    "    'small_bert/bert_en_uncased_L-6_H-128_A-2':\n",
    "        'https://tfhub.dev/tensorflow/small_bert/bert_en_uncased_L-6_H-128_A-2/1',\n",
    "    'small_bert/bert_en_uncased_L-6_H-256_A-4':\n",
    "        'https://tfhub.dev/tensorflow/small_bert/bert_en_uncased_L-6_H-256_A-4/1',\n",
    "    'small_bert/bert_en_uncased_L-6_H-512_A-8':\n",
    "        'https://tfhub.dev/tensorflow/small_bert/bert_en_uncased_L-6_H-512_A-8/1',\n",
    "    'small_bert/bert_en_uncased_L-6_H-768_A-12':\n",
    "        'https://tfhub.dev/tensorflow/small_bert/bert_en_uncased_L-6_H-768_A-12/1',\n",
    "    'small_bert/bert_en_uncased_L-8_H-128_A-2':\n",
    "        'https://tfhub.dev/tensorflow/small_bert/bert_en_uncased_L-8_H-128_A-2/1',\n",
    "    'small_bert/bert_en_uncased_L-8_H-256_A-4':\n",
    "        'https://tfhub.dev/tensorflow/small_bert/bert_en_uncased_L-8_H-256_A-4/1',\n",
    "    'small_bert/bert_en_uncased_L-8_H-512_A-8':\n",
    "        'https://tfhub.dev/tensorflow/small_bert/bert_en_uncased_L-8_H-512_A-8/1',\n",
    "    'small_bert/bert_en_uncased_L-8_H-768_A-12':\n",
    "        'https://tfhub.dev/tensorflow/small_bert/bert_en_uncased_L-8_H-768_A-12/1',\n",
    "    'small_bert/bert_en_uncased_L-10_H-128_A-2':\n",
    "        'https://tfhub.dev/tensorflow/small_bert/bert_en_uncased_L-10_H-128_A-2/1',\n",
    "    'small_bert/bert_en_uncased_L-10_H-256_A-4':\n",
    "        'https://tfhub.dev/tensorflow/small_bert/bert_en_uncased_L-10_H-256_A-4/1',\n",
    "    'small_bert/bert_en_uncased_L-10_H-512_A-8':\n",
    "        'https://tfhub.dev/tensorflow/small_bert/bert_en_uncased_L-10_H-512_A-8/1',\n",
    "    'small_bert/bert_en_uncased_L-10_H-768_A-12':\n",
    "        'https://tfhub.dev/tensorflow/small_bert/bert_en_uncased_L-10_H-768_A-12/1',\n",
    "    'small_bert/bert_en_uncased_L-12_H-128_A-2':\n",
    "        'https://tfhub.dev/tensorflow/small_bert/bert_en_uncased_L-12_H-128_A-2/1',\n",
    "    'small_bert/bert_en_uncased_L-12_H-256_A-4':\n",
    "        'https://tfhub.dev/tensorflow/small_bert/bert_en_uncased_L-12_H-256_A-4/1',\n",
    "    'small_bert/bert_en_uncased_L-12_H-512_A-8':\n",
    "        'https://tfhub.dev/tensorflow/small_bert/bert_en_uncased_L-12_H-512_A-8/1',\n",
    "    'small_bert/bert_en_uncased_L-12_H-768_A-12':\n",
    "        'https://tfhub.dev/tensorflow/small_bert/bert_en_uncased_L-12_H-768_A-12/1',\n",
    "    'albert_en_base':\n",
    "        'https://tfhub.dev/tensorflow/albert_en_base/2',\n",
    "    'electra_small':\n",
    "        'https://tfhub.dev/google/electra_small/2',\n",
    "    'electra_base':\n",
    "        'https://tfhub.dev/google/electra_base/2',\n",
    "    'experts_pubmed':\n",
    "        'https://tfhub.dev/google/experts/bert/pubmed/2',\n",
    "    'experts_wiki_books':\n",
    "        'https://tfhub.dev/google/experts/bert/wiki_books/2',\n",
    "    'talking-heads_base':\n",
    "        'https://tfhub.dev/tensorflow/talkheads_ggelu_bert_en_base/1',\n",
    "}\n",
    "\n",
    "map_model_to_preprocess = {\n",
    "    'bert_en_uncased_L-12_H-768_A-12':\n",
    "        'https://tfhub.dev/tensorflow/bert_en_uncased_preprocess/3',\n",
    "    'bert_en_cased_L-12_H-768_A-12':\n",
    "        'https://tfhub.dev/tensorflow/bert_en_cased_preprocess/3',\n",
    "    'small_bert/bert_en_uncased_L-2_H-128_A-2':\n",
    "        'https://tfhub.dev/tensorflow/bert_en_uncased_preprocess/3',\n",
    "    'small_bert/bert_en_uncased_L-2_H-256_A-4':\n",
    "        'https://tfhub.dev/tensorflow/bert_en_uncased_preprocess/3',\n",
    "    'small_bert/bert_en_uncased_L-2_H-512_A-8':\n",
    "        'https://tfhub.dev/tensorflow/bert_en_uncased_preprocess/3',\n",
    "    'small_bert/bert_en_uncased_L-2_H-768_A-12':\n",
    "        'https://tfhub.dev/tensorflow/bert_en_uncased_preprocess/3',\n",
    "    'small_bert/bert_en_uncased_L-4_H-128_A-2':\n",
    "        'https://tfhub.dev/tensorflow/bert_en_uncased_preprocess/3',\n",
    "    'small_bert/bert_en_uncased_L-4_H-256_A-4':\n",
    "        'https://tfhub.dev/tensorflow/bert_en_uncased_preprocess/3',\n",
    "    'small_bert/bert_en_uncased_L-4_H-512_A-8':\n",
    "        'https://tfhub.dev/tensorflow/bert_en_uncased_preprocess/3',\n",
    "    'small_bert/bert_en_uncased_L-4_H-768_A-12':\n",
    "        'https://tfhub.dev/tensorflow/bert_en_uncased_preprocess/3',\n",
    "    'small_bert/bert_en_uncased_L-6_H-128_A-2':\n",
    "        'https://tfhub.dev/tensorflow/bert_en_uncased_preprocess/3',\n",
    "    'small_bert/bert_en_uncased_L-6_H-256_A-4':\n",
    "        'https://tfhub.dev/tensorflow/bert_en_uncased_preprocess/3',\n",
    "    'small_bert/bert_en_uncased_L-6_H-512_A-8':\n",
    "        'https://tfhub.dev/tensorflow/bert_en_uncased_preprocess/3',\n",
    "    'small_bert/bert_en_uncased_L-6_H-768_A-12':\n",
    "        'https://tfhub.dev/tensorflow/bert_en_uncased_preprocess/3',\n",
    "    'small_bert/bert_en_uncased_L-8_H-128_A-2':\n",
    "        'https://tfhub.dev/tensorflow/bert_en_uncased_preprocess/3',\n",
    "    'small_bert/bert_en_uncased_L-8_H-256_A-4':\n",
    "        'https://tfhub.dev/tensorflow/bert_en_uncased_preprocess/3',\n",
    "    'small_bert/bert_en_uncased_L-8_H-512_A-8':\n",
    "        'https://tfhub.dev/tensorflow/bert_en_uncased_preprocess/3',\n",
    "    'small_bert/bert_en_uncased_L-8_H-768_A-12':\n",
    "        'https://tfhub.dev/tensorflow/bert_en_uncased_preprocess/3',\n",
    "    'small_bert/bert_en_uncased_L-10_H-128_A-2':\n",
    "        'https://tfhub.dev/tensorflow/bert_en_uncased_preprocess/3',\n",
    "    'small_bert/bert_en_uncased_L-10_H-256_A-4':\n",
    "        'https://tfhub.dev/tensorflow/bert_en_uncased_preprocess/3',\n",
    "    'small_bert/bert_en_uncased_L-10_H-512_A-8':\n",
    "        'https://tfhub.dev/tensorflow/bert_en_uncased_preprocess/3',\n",
    "    'small_bert/bert_en_uncased_L-10_H-768_A-12':\n",
    "        'https://tfhub.dev/tensorflow/bert_en_uncased_preprocess/3',\n",
    "    'small_bert/bert_en_uncased_L-12_H-128_A-2':\n",
    "        'https://tfhub.dev/tensorflow/bert_en_uncased_preprocess/3',\n",
    "    'small_bert/bert_en_uncased_L-12_H-256_A-4':\n",
    "        'https://tfhub.dev/tensorflow/bert_en_uncased_preprocess/3',\n",
    "    'small_bert/bert_en_uncased_L-12_H-512_A-8':\n",
    "        'https://tfhub.dev/tensorflow/bert_en_uncased_preprocess/3',\n",
    "    'small_bert/bert_en_uncased_L-12_H-768_A-12':\n",
    "        'https://tfhub.dev/tensorflow/bert_en_uncased_preprocess/3',\n",
    "    'bert_multi_cased_L-12_H-768_A-12':\n",
    "        'https://tfhub.dev/tensorflow/bert_multi_cased_preprocess/3',\n",
    "    'albert_en_base':\n",
    "        'https://tfhub.dev/tensorflow/albert_en_preprocess/3',\n",
    "    'electra_small':\n",
    "        'https://tfhub.dev/tensorflow/bert_en_uncased_preprocess/3',\n",
    "    'electra_base':\n",
    "        'https://tfhub.dev/tensorflow/bert_en_uncased_preprocess/3',\n",
    "    'experts_pubmed':\n",
    "        'https://tfhub.dev/tensorflow/bert_en_uncased_preprocess/3',\n",
    "    'experts_wiki_books':\n",
    "        'https://tfhub.dev/tensorflow/bert_en_uncased_preprocess/3',\n",
    "    'talking-heads_base':\n",
    "        'https://tfhub.dev/tensorflow/bert_en_uncased_preprocess/3',\n",
    "}\n",
    "\n",
    "tfhub_handle_encoder = map_name_to_handle[bert_model_name]\n",
    "tfhub_handle_preprocess = map_model_to_preprocess[bert_model_name]\n",
    "\n",
    "print(f'BERT model selected           : {tfhub_handle_encoder}')\n",
    "print(f'Preprocess model auto-selected: {tfhub_handle_preprocess}')"
   ]
  },
  {
   "cell_type": "code",
   "execution_count": null,
   "id": "ea42d123-7b10-40fa-b592-f934bae866b0",
   "metadata": {
    "tags": []
   },
   "outputs": [],
   "source": [
    "def build_classifier_model():\n",
    "    text_input = tf.keras.layers.Input(shape=(), dtype=tf.string, name=\"text\")\n",
    "    preprocessing_layer = hub.KerasLayer(tfhub_handle_preprocess, name=\"preprocessing\")\n",
    "    encoder_inputs = preprocessing_layer(text_input)\n",
    "    encoder = hub.KerasLayer(tfhub_handle_encoder, trainable=True, name=\"BERT_encoder\")\n",
    "    outputs = encoder(encoder_inputs)\n",
    "    net = outputs[\"pooled_output\"]\n",
    "    net = tf.keras.layers.Dropout(0.1)(net)\n",
    "    net = tf.keras.layers.Dense(num_classes, activation=\"softmax\", name=\"classifier\")(net)\n",
    "    return tf.keras.Model(text_input, net)"
   ]
  },
  {
   "cell_type": "code",
   "execution_count": null,
   "id": "595c1bfb-90a1-4320-828d-5ac182506208",
   "metadata": {},
   "outputs": [],
   "source": [
    "classifier_model = build_classifier_model()\n",
    "bert_raw_results = classifier_model(X_train)"
   ]
  },
  {
   "cell_type": "code",
   "execution_count": null,
   "id": "9a81d171-2acc-4a10-92e9-5c69e1198af0",
   "metadata": {},
   "outputs": [],
   "source": [
    "classifier_model.summary()"
   ]
  },
  {
   "cell_type": "code",
   "execution_count": null,
   "id": "5be96e04-f77f-4ed3-b77b-bc4f465fd2b7",
   "metadata": {},
   "outputs": [],
   "source": [
    "def f1_score(y_true, y_pred):\n",
    "    y_true = tf.cast(y_true, \"float32\")\n",
    "    y_pred = tf.argmax(y_pred, axis=-1)\n",
    "    tp = tf.reduce_sum(tf.cast(y_true*y_pred, \"float32\"), axis=0)\n",
    "    fp = tf.reduce_sum(tf.cast((1-y_true)*y_pred, \"float32\"), axis=0)\n",
    "    fn = tf.reduce_sum(tf.cast(y_true*(1-y_pred), \"float32\"), axis=0)\n",
    "    precision = tp(tp+fp)\n",
    "    recall = tp/(tp+fn)\n",
    "    f1 = 2 * (precision*recall)/(precision+recall)\n",
    "    return tf.reduce_mean(f1)"
   ]
  },
  {
   "cell_type": "code",
   "execution_count": null,
   "id": "dc8f0f87-a5f0-4cc2-8a4c-508a2e688dcd",
   "metadata": {},
   "outputs": [],
   "source": [
    "# # Categorical Cross Entropy and Categorical Accuracy\n",
    "# loss = tf.keras.losses.CategoricalCrossentropy(from_logits=False)\n",
    "# metrics = tf.keras.metrics.CategoricalAccuracy()"
   ]
  },
  {
   "cell_type": "code",
   "execution_count": null,
   "id": "4a580ab3-946d-48ca-a78b-7031686255a6",
   "metadata": {},
   "outputs": [],
   "source": [
    "# Sparse Categorical Cross Entropy and F1 Score\n",
    "loss = tf.keras.losses.SparseCategoricalCrossentropy(from_logits=False)\n",
    "metrics = tf.keras.metrics.CategoricalAccuracy()"
   ]
  },
  {
   "cell_type": "code",
   "execution_count": null,
   "id": "bc09aade-eefb-4d1f-be8f-8b1db3564644",
   "metadata": {},
   "outputs": [],
   "source": [
    "epochs = 30\n",
    "steps_per_epoch = 1000\n",
    "num_train_steps = steps_per_epoch * epochs\n",
    "num_warmup_steps = int(0.1*num_train_steps)\n",
    "\n",
    "init_lr = 3e-5\n",
    "optimizer = optimization.create_optimizer(\n",
    "    init_lr=init_lr,\n",
    "    num_train_steps=num_train_steps,\n",
    "    num_warmup_steps=num_warmup_steps,\n",
    "    optimizer_type=\"adamw\"\n",
    ")"
   ]
  },
  {
   "cell_type": "code",
   "execution_count": null,
   "id": "47107fe7-915b-408f-a1f6-254db1276335",
   "metadata": {},
   "outputs": [],
   "source": [
    "classifier_model.compile(\n",
    "    optimizer=optimizer,\n",
    "    loss=loss,\n",
    "    metrics=[\"accuracy\"]\n",
    ")"
   ]
  },
  {
   "cell_type": "code",
   "execution_count": null,
   "id": "c204ad0a-2c29-42d4-8a95-32815cdceaf6",
   "metadata": {},
   "outputs": [],
   "source": [
    "# batch_sizes = [8, 16, 32, 64, 128]\n",
    "# learning_rates: [3e-4, 1e-4, 5e-5, 3e-5]\n",
    "# sample_weights"
   ]
  },
  {
   "cell_type": "code",
   "execution_count": null,
   "id": "952ca8f2-6cdc-4dba-99c7-398226d4c32b",
   "metadata": {},
   "outputs": [],
   "source": [
    "# Callback for early termination\n",
    "es = tf.keras.callbacks.EarlyStopping(\n",
    "    monitor='val_accuracy',\n",
    "    mode=\"max\",\n",
    "    verbose=1,\n",
    "    patience=3\n",
    ")"
   ]
  },
  {
   "cell_type": "code",
   "execution_count": null,
   "id": "13eac0e2-2298-4fbd-9dc7-a3b556222176",
   "metadata": {
    "tags": []
   },
   "outputs": [],
   "source": [
    "checkpoint_path = \"model_checkpoint/BERT_25_{epoch:02d}_{val_accuracy:.2f}.hdf5\"\n",
    "model_checkpoint_callback = tf.keras.callbacks.ModelCheckpoint(\n",
    "    filepath=checkpoint_path,\n",
    "    save_weights_only=True,\n",
    "    monitor='val_accuracy',\n",
    "    mode='max',\n",
    "    save_best_only=True,\n",
    "    verbose=1\n",
    ")"
   ]
  },
  {
   "cell_type": "code",
   "execution_count": null,
   "id": "cff86bc6-45ba-44de-9e91-95a618d220c6",
   "metadata": {},
   "outputs": [],
   "source": [
    "classifier_model.load_weights(\"model_checkpoint/BERT_25_01_1.30.hdf5\")"
   ]
  },
  {
   "cell_type": "code",
   "execution_count": null,
   "id": "22df3ce4-c68d-4541-b10e-584a94457433",
   "metadata": {},
   "outputs": [],
   "source": [
    "print(f'Training model with {tfhub_handle_encoder}')\n",
    "history = classifier_model.fit(\n",
    "    x=X_train,\n",
    "    y=y_train,\n",
    "    validation_data=(X_val, y_val),\n",
    "    epochs=epochs,\n",
    "    callbacks=[es, model_checkpoint_callback]\n",
    ")"
   ]
  },
  {
   "cell_type": "code",
   "execution_count": null,
   "id": "db91ac81-e324-4cbf-a2ac-d701972dcd3a",
   "metadata": {},
   "outputs": [],
   "source": [
    "classifier_model.save_weights('my_model_weights.h5')"
   ]
  },
  {
   "cell_type": "code",
   "execution_count": null,
   "id": "648042ee-9537-4a20-9e24-83d7a8dc3ea7",
   "metadata": {},
   "outputs": [],
   "source": [
    "checkpoint_path = \"training_1/cp.ckpt\"\n",
    "checkpoint_dir = os.path.dirname(checkpoint_path)\n",
    "\n",
    "# Create a callback that saves the model's weights\n",
    "cp_callback = tf.keras.callbacks.ModelCheckpoint(filepath=checkpoint_path,\n",
    "                                                 save_weights_only=True,\n",
    "                                                 verbose=1)\n",
    "\n",
    "# Train the model with the new callback\n",
    "model.fit(train_images, \n",
    "          train_labels,  \n",
    "          epochs=10,\n",
    "          validation_data=(test_images, test_labels),\n",
    "          callbacks=[cp_callback])  # Pass callback to training\n",
    "\n",
    "# This may generate warnings related to saving the state of the optimizer.\n",
    "# These warnings (and similar warnings throughout this notebook)\n",
    "# are in place to discourage outdated usage, and can be ignored."
   ]
  },
  {
   "cell_type": "code",
   "execution_count": null,
   "id": "1abf0511-cff4-4804-a370-e35cb811e146",
   "metadata": {},
   "outputs": [],
   "source": [
    "def predict(mdl, desc, le):\n",
    "    probabilities = np.argmax(mdl.predict(x = test))\n",
    "    return le.inverse_transform([pred])"
   ]
  },
  {
   "cell_type": "code",
   "execution_count": null,
   "id": "30994490-2386-4d90-8adb-7520ce296b4b",
   "metadata": {},
   "outputs": [],
   "source": [
    "predict(classifier_model, test, le)"
   ]
  },
  {
   "cell_type": "code",
   "execution_count": null,
   "id": "2b9468c5-9f21-47c7-9826-11cbf235c2d6",
   "metadata": {},
   "outputs": [],
   "source": [
    "test = [\"My Duo Mobile app is not working. It says that the account is disabled. Please contact the Service Desk.\"]\n",
    "pred = np.argmax(classifier_model.predict(x = test))\n",
    "le.inverse_transform([pred])"
   ]
  },
  {
   "cell_type": "code",
   "execution_count": null,
   "id": "2bb4f96f-c5b3-49d3-875e-39b951787549",
   "metadata": {},
   "outputs": [],
   "source": [
    "test = [\"My account is compromised, I need to change my password\"]\n",
    "pred = np.argmax(classifier_model.predict(x = test))\n",
    "le.inverse_transform([pred])"
   ]
  },
  {
   "cell_type": "code",
   "execution_count": null,
   "id": "5faa7366-bd1c-4638-8a0b-dc6deab8c30b",
   "metadata": {},
   "outputs": [],
   "source": [
    "test = [\"Wifi at Sixth college is not working. All of my friends are reporting a problem\"]\n",
    "pred = np.argmax(classifier_model.predict(x = test))\n",
    "le.inverse_transform([pred])"
   ]
  },
  {
   "cell_type": "code",
   "execution_count": null,
   "id": "c2aec26a-67cc-4b7b-87eb-f0635fd1bc4e",
   "metadata": {},
   "outputs": [],
   "source": [
    "test = [\"My VPN is not working. It is stuck on trying to connect when I type in my password\"]\n",
    "pred = np.argmax(classifier_model.predict(x = test))\n",
    "le.inverse_transform([pred])"
   ]
  },
  {
   "cell_type": "code",
   "execution_count": null,
   "id": "7c7a5fa8-d14b-4f06-bbab-e1134c626732",
   "metadata": {},
   "outputs": [],
   "source": [
    "test = [\"I am not receiving any emails in my Outlook exchange. The last email I got was 2 months ago. HELP!!!\"]\n",
    "pred = np.argmax(classifier_model.predict(x = test))\n",
    "le.inverse_transform([pred])"
   ]
  },
  {
   "cell_type": "code",
   "execution_count": null,
   "id": "984773ea-cbb9-4ca8-9018-92bad3c0da9e",
   "metadata": {},
   "outputs": [],
   "source": [
    "def predict_class(probs):\n",
    "    return [np.argmax(pred) for pred in model.predict(probs)]"
   ]
  },
  {
   "cell_type": "code",
   "execution_count": null,
   "id": "bb3c22c8-eae6-410a-80cd-c969448d3640",
   "metadata": {},
   "outputs": [],
   "source": [
    "bert_preprocess_model = hub.KerasLayer(tfhub_handle_preprocess)"
   ]
  },
  {
   "cell_type": "code",
   "execution_count": null,
   "id": "a01a58be-7b77-4d53-ab40-52fd8bacd0a0",
   "metadata": {},
   "outputs": [],
   "source": [
    "text_preprocessed = bert_preprocess_model(X_small)\n",
    "\n",
    "print(f'Keys       : {list(text_preprocessed.keys())}')\n",
    "print(f'Shape      : {text_preprocessed[\"input_word_ids\"].shape}')\n",
    "print(f'Word Ids   : {text_preprocessed[\"input_word_ids\"][0, :12]}')\n",
    "print(f'Input Mask : {text_preprocessed[\"input_mask\"][0, :12]}')\n",
    "print(f'Type Ids   : {text_preprocessed[\"input_type_ids\"][0, :12]}')"
   ]
  },
  {
   "cell_type": "code",
   "execution_count": null,
   "id": "ce5acc30-d436-41bd-84c2-bbc06f8e25e8",
   "metadata": {},
   "outputs": [],
   "source": [
    "bert_model = hub.KerasLayer(tfhub_handle_encoder)"
   ]
  },
  {
   "cell_type": "code",
   "execution_count": null,
   "id": "2a38a63b-0e83-4817-80ae-4946f15fadd1",
   "metadata": {},
   "outputs": [],
   "source": [
    "bert_results = bert_model(text_preprocessed)\n",
    "\n",
    "print(f'Loaded BERT: {tfhub_handle_encoder}')\n",
    "print(f'Pooled Outputs Shape:{bert_results[\"pooled_output\"].shape}')\n",
    "print(f'Pooled Outputs Values:{bert_results[\"pooled_output\"][0, :12]}')\n",
    "print(f'Sequence Outputs Shape:{bert_results[\"sequence_output\"].shape}')\n",
    "print(f'Sequence Outputs Values:{bert_results[\"sequence_output\"][0, :12]}')"
   ]
  },
  {
   "cell_type": "code",
   "execution_count": null,
   "id": "8ce04f24-81ec-4397-acf1-296e91dadb7b",
   "metadata": {},
   "outputs": [],
   "source": [
    "tf.keras.utils.plot_model(classifier_model)"
   ]
  }
 ],
 "metadata": {
  "kernelspec": {
   "display_name": "Python 3 (clean)",
   "language": "python",
   "name": "python3_clean"
  },
  "language_info": {
   "codemirror_mode": {
    "name": "ipython",
    "version": 3
   },
   "file_extension": ".py",
   "mimetype": "text/x-python",
   "name": "python",
   "nbconvert_exporter": "python",
   "pygments_lexer": "ipython3",
   "version": "3.9.5"
  }
 },
 "nbformat": 4,
 "nbformat_minor": 5
}

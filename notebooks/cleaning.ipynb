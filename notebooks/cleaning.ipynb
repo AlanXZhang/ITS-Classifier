{
 "cells": [
  {
   "cell_type": "code",
   "execution_count": null,
   "id": "3cf59849-0878-4541-8647-4fb108dc096c",
   "metadata": {},
   "outputs": [],
   "source": [
    "import "
   ]
  },
  {
   "cell_type": "code",
   "execution_count": 29,
   "id": "c67a03ea-aabd-4682-8a23-6dcc950342f1",
   "metadata": {},
   "outputs": [],
   "source": [
    "%load_ext autoreload\n",
    "\n",
    "%autoreload 2\n",
    "import sys\n",
    "sys.path.append(\"../src\")\n",
    "import clean as ux"
   ]
  },
  {
   "cell_type": "code",
   "execution_count": 32,
   "id": "9d85972f-d629-4c77-8b12-c0bcb5701cb9",
   "metadata": {},
   "outputs": [
    {
     "name": "stdout",
     "output_type": "stream",
     "text": [
      "Successfuly loaded data into a DataFrame\n"
     ]
    }
   ],
   "source": [
    "df = ux.clean_csv()"
   ]
  },
  {
   "cell_type": "code",
   "execution_count": 35,
   "id": "e4fe56fc-286f-4fcb-9087-c6981a9afafd",
   "metadata": {},
   "outputs": [],
   "source": [
    "ux.org_split(df)"
   ]
  },
  {
   "cell_type": "code",
   "execution_count": 2,
   "id": "b01c9f1a-3be7-4ae0-85cd-3a3e5be2c5d4",
   "metadata": {},
   "outputs": [],
   "source": [
    "df = pd.read_csv(\n",
    "    \"../data/cases_f.csv\",\n",
    "    encoding=\"utf-8\",\n",
    "    encoding_errors=\"ignore\",\n",
    "    engine=\"c\",\n",
    "    on_bad_lines=\"warn\",\n",
    ")"
   ]
  },
  {
   "cell_type": "code",
   "execution_count": 3,
   "id": "e1be49f7-4147-43b5-8c35-5c60b30ea225",
   "metadata": {},
   "outputs": [],
   "source": [
    "df2 = df.dropna(axis=0, subset=[\"service_offering\", \"u_organization\"]).fillna(\"\")"
   ]
  },
  {
   "cell_type": "code",
   "execution_count": 4,
   "id": "068495ab-1304-4798-9a6f-388015c40be7",
   "metadata": {},
   "outputs": [],
   "source": [
    "val_cts = df2.value_counts(\"u_organization\")\n",
    "orgs_to_drop = [x for x,ct in val_cts.items() if ct < 10]\n",
    "df2 = df2[~df2[\"u_organization\"].isin(orgs_to_drop)]"
   ]
  },
  {
   "cell_type": "code",
   "execution_count": 21,
   "id": "532a416a-c439-4046-955a-5a105733251f",
   "metadata": {},
   "outputs": [],
   "source": [
    "org_grps = df2.groupby(\"u_organization\")\n",
    "org_lst = org_grps.groups.keys()"
   ]
  },
  {
   "cell_type": "code",
   "execution_count": 23,
   "id": "228a4480-c78b-4aa4-b267-de34087661a2",
   "metadata": {},
   "outputs": [],
   "source": [
    "mini_dfs = {}\n",
    "for org in org_lst:\n",
    "    mini_dfs[org] = org_grps.get_group(org)"
   ]
  }
 ],
 "metadata": {
  "kernelspec": {
   "display_name": "Python 3 (ipykernel)",
   "language": "python",
   "name": "python3"
  },
  "language_info": {
   "codemirror_mode": {
    "name": "ipython",
    "version": 3
   },
   "file_extension": ".py",
   "mimetype": "text/x-python",
   "name": "python",
   "nbconvert_exporter": "python",
   "pygments_lexer": "ipython3",
   "version": "3.9.5"
  }
 },
 "nbformat": 4,
 "nbformat_minor": 5
}
